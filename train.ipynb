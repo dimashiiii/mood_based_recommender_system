{
 "cells": [
  {
   "cell_type": "code",
   "execution_count": null,
   "id": "a9c9d971",
   "metadata": {},
   "outputs": [
    {
     "name": "stdout",
     "output_type": "stream",
     "text": [
      "Requirement already satisfied: transformers in c:\\users\\user\\appdata\\local\\programs\\python\\python39\\lib\\site-packages (4.51.3)\n",
      "Requirement already satisfied: filelock in c:\\users\\user\\appdata\\local\\programs\\python\\python39\\lib\\site-packages (from transformers) (3.18.0)\n",
      "Requirement already satisfied: huggingface-hub<1.0,>=0.30.0 in c:\\users\\user\\appdata\\local\\programs\\python\\python39\\lib\\site-packages (from transformers) (0.31.1)\n",
      "Requirement already satisfied: numpy>=1.17 in c:\\users\\user\\appdata\\local\\programs\\python\\python39\\lib\\site-packages (from transformers) (1.26.3)\n",
      "Requirement already satisfied: packaging>=20.0 in c:\\users\\user\\appdata\\local\\programs\\python\\python39\\lib\\site-packages (from transformers) (23.2)\n",
      "Requirement already satisfied: pyyaml>=5.1 in c:\\users\\user\\appdata\\local\\programs\\python\\python39\\lib\\site-packages (from transformers) (6.0.1)\n",
      "Requirement already satisfied: regex!=2019.12.17 in c:\\users\\user\\appdata\\local\\programs\\python\\python39\\lib\\site-packages (from transformers) (2024.11.6)\n",
      "Requirement already satisfied: requests in c:\\users\\user\\appdata\\local\\programs\\python\\python39\\lib\\site-packages (from transformers) (2.32.3)\n",
      "Requirement already satisfied: tokenizers<0.22,>=0.21 in c:\\users\\user\\appdata\\local\\programs\\python\\python39\\lib\\site-packages (from transformers) (0.21.1)\n",
      "Requirement already satisfied: safetensors>=0.4.3 in c:\\users\\user\\appdata\\local\\programs\\python\\python39\\lib\\site-packages (from transformers) (0.5.3)\n",
      "Requirement already satisfied: tqdm>=4.27 in c:\\users\\user\\appdata\\local\\programs\\python\\python39\\lib\\site-packages (from transformers) (4.67.1)\n",
      "Requirement already satisfied: fsspec>=2023.5.0 in c:\\users\\user\\appdata\\local\\programs\\python\\python39\\lib\\site-packages (from huggingface-hub<1.0,>=0.30.0->transformers) (2025.3.0)\n",
      "Requirement already satisfied: typing-extensions>=3.7.4.3 in c:\\users\\user\\appdata\\local\\programs\\python\\python39\\lib\\site-packages (from huggingface-hub<1.0,>=0.30.0->transformers) (4.12.2)\n",
      "Requirement already satisfied: colorama in c:\\users\\user\\appdata\\local\\programs\\python\\python39\\lib\\site-packages (from tqdm>=4.27->transformers) (0.4.6)\n",
      "Requirement already satisfied: charset-normalizer<4,>=2 in c:\\users\\user\\appdata\\local\\programs\\python\\python39\\lib\\site-packages (from requests->transformers) (3.3.0)\n",
      "Requirement already satisfied: idna<4,>=2.5 in c:\\users\\user\\appdata\\local\\programs\\python\\python39\\lib\\site-packages (from requests->transformers) (3.4)\n",
      "Requirement already satisfied: urllib3<3,>=1.21.1 in c:\\users\\user\\appdata\\local\\programs\\python\\python39\\lib\\site-packages (from requests->transformers) (2.0.6)\n",
      "Requirement already satisfied: certifi>=2017.4.17 in c:\\users\\user\\appdata\\local\\programs\\python\\python39\\lib\\site-packages (from requests->transformers) (2023.7.22)\n"
     ]
    },
    {
     "name": "stderr",
     "output_type": "stream",
     "text": [
      "\n",
      "[notice] A new release of pip is available: 23.3.1 -> 25.1.1\n",
      "[notice] To update, run: python.exe -m pip install --upgrade pip\n"
     ]
    }
   ],
   "source": [
    "# !pip install transformers -U"
   ]
  },
  {
   "cell_type": "code",
   "execution_count": null,
   "id": "09eb1048",
   "metadata": {},
   "outputs": [
    {
     "name": "stdout",
     "output_type": "stream",
     "text": [
      "Requirement already satisfied: accelerate in c:\\users\\user\\appdata\\local\\programs\\python\\python39\\lib\\site-packages (0.26.0)\n",
      "Collecting accelerate\n",
      "  Downloading accelerate-1.7.0-py3-none-any.whl.metadata (19 kB)\n",
      "Requirement already satisfied: numpy<3.0.0,>=1.17 in c:\\users\\user\\appdata\\local\\programs\\python\\python39\\lib\\site-packages (from accelerate) (1.26.3)\n",
      "Requirement already satisfied: packaging>=20.0 in c:\\users\\user\\appdata\\local\\programs\\python\\python39\\lib\\site-packages (from accelerate) (23.2)\n",
      "Requirement already satisfied: psutil in c:\\users\\user\\appdata\\local\\programs\\python\\python39\\lib\\site-packages (from accelerate) (5.9.5)\n",
      "Requirement already satisfied: pyyaml in c:\\users\\user\\appdata\\local\\programs\\python\\python39\\lib\\site-packages (from accelerate) (6.0.1)\n",
      "Requirement already satisfied: torch>=2.0.0 in c:\\users\\user\\appdata\\local\\programs\\python\\python39\\lib\\site-packages (from accelerate) (2.7.0+cpu)\n",
      "Requirement already satisfied: huggingface-hub>=0.21.0 in c:\\users\\user\\appdata\\local\\programs\\python\\python39\\lib\\site-packages (from accelerate) (0.31.1)\n",
      "Requirement already satisfied: safetensors>=0.4.3 in c:\\users\\user\\appdata\\local\\programs\\python\\python39\\lib\\site-packages (from accelerate) (0.5.3)\n",
      "Requirement already satisfied: filelock in c:\\users\\user\\appdata\\local\\programs\\python\\python39\\lib\\site-packages (from huggingface-hub>=0.21.0->accelerate) (3.18.0)\n",
      "Requirement already satisfied: fsspec>=2023.5.0 in c:\\users\\user\\appdata\\local\\programs\\python\\python39\\lib\\site-packages (from huggingface-hub>=0.21.0->accelerate) (2025.3.0)\n",
      "Requirement already satisfied: requests in c:\\users\\user\\appdata\\local\\programs\\python\\python39\\lib\\site-packages (from huggingface-hub>=0.21.0->accelerate) (2.32.3)\n",
      "Requirement already satisfied: tqdm>=4.42.1 in c:\\users\\user\\appdata\\local\\programs\\python\\python39\\lib\\site-packages (from huggingface-hub>=0.21.0->accelerate) (4.67.1)\n",
      "Requirement already satisfied: typing-extensions>=3.7.4.3 in c:\\users\\user\\appdata\\local\\programs\\python\\python39\\lib\\site-packages (from huggingface-hub>=0.21.0->accelerate) (4.12.2)\n",
      "Requirement already satisfied: sympy>=1.13.3 in c:\\users\\user\\appdata\\local\\programs\\python\\python39\\lib\\site-packages (from torch>=2.0.0->accelerate) (1.14.0)\n",
      "Requirement already satisfied: networkx in c:\\users\\user\\appdata\\local\\programs\\python\\python39\\lib\\site-packages (from torch>=2.0.0->accelerate) (3.2.1)\n",
      "Requirement already satisfied: jinja2 in c:\\users\\user\\appdata\\local\\programs\\python\\python39\\lib\\site-packages (from torch>=2.0.0->accelerate) (3.1.2)\n",
      "Requirement already satisfied: mpmath<1.4,>=1.1.0 in c:\\users\\user\\appdata\\local\\programs\\python\\python39\\lib\\site-packages (from sympy>=1.13.3->torch>=2.0.0->accelerate) (1.3.0)\n",
      "Requirement already satisfied: colorama in c:\\users\\user\\appdata\\local\\programs\\python\\python39\\lib\\site-packages (from tqdm>=4.42.1->huggingface-hub>=0.21.0->accelerate) (0.4.6)\n",
      "Requirement already satisfied: MarkupSafe>=2.0 in c:\\users\\user\\appdata\\local\\programs\\python\\python39\\lib\\site-packages (from jinja2->torch>=2.0.0->accelerate) (2.1.3)\n",
      "Requirement already satisfied: charset-normalizer<4,>=2 in c:\\users\\user\\appdata\\local\\programs\\python\\python39\\lib\\site-packages (from requests->huggingface-hub>=0.21.0->accelerate) (3.3.0)\n",
      "Requirement already satisfied: idna<4,>=2.5 in c:\\users\\user\\appdata\\local\\programs\\python\\python39\\lib\\site-packages (from requests->huggingface-hub>=0.21.0->accelerate) (3.4)\n",
      "Requirement already satisfied: urllib3<3,>=1.21.1 in c:\\users\\user\\appdata\\local\\programs\\python\\python39\\lib\\site-packages (from requests->huggingface-hub>=0.21.0->accelerate) (2.0.6)\n",
      "Requirement already satisfied: certifi>=2017.4.17 in c:\\users\\user\\appdata\\local\\programs\\python\\python39\\lib\\site-packages (from requests->huggingface-hub>=0.21.0->accelerate) (2023.7.22)\n",
      "Downloading accelerate-1.7.0-py3-none-any.whl (362 kB)\n",
      "   ---------------------------------------- 0.0/362.1 kB ? eta -:--:--\n",
      "   --- ------------------------------------ 30.7/362.1 kB 1.4 MB/s eta 0:00:01\n",
      "   --- ------------------------------------ 30.7/362.1 kB 1.4 MB/s eta 0:00:01\n",
      "   ------- ------------------------------- 71.7/362.1 kB 491.5 kB/s eta 0:00:01\n",
      "   ----------- -------------------------- 112.6/362.1 kB 547.6 kB/s eta 0:00:01\n",
      "   ------------ ------------------------- 122.9/362.1 kB 450.6 kB/s eta 0:00:01\n",
      "   -------------------- ----------------- 194.6/362.1 kB 590.8 kB/s eta 0:00:01\n",
      "   -------------------------- ----------- 256.0/362.1 kB 716.5 kB/s eta 0:00:01\n",
      "   -------------------------------------  358.4/362.1 kB 827.0 kB/s eta 0:00:01\n",
      "   -------------------------------------- 362.1/362.1 kB 776.7 kB/s eta 0:00:00\n",
      "Installing collected packages: accelerate\n",
      "  Attempting uninstall: accelerate\n",
      "    Found existing installation: accelerate 0.26.0\n",
      "    Uninstalling accelerate-0.26.0:\n",
      "      Successfully uninstalled accelerate-0.26.0\n",
      "Successfully installed accelerate-1.7.0\n"
     ]
    },
    {
     "name": "stderr",
     "output_type": "stream",
     "text": [
      "\n",
      "[notice] A new release of pip is available: 23.3.1 -> 25.1.1\n",
      "[notice] To update, run: python.exe -m pip install --upgrade pip\n"
     ]
    },
    {
     "name": "stdout",
     "output_type": "stream",
     "text": [
      "Requirement already satisfied: datasets in c:\\users\\user\\appdata\\local\\programs\\python\\python39\\lib\\site-packages (3.6.0)\n",
      "Requirement already satisfied: filelock in c:\\users\\user\\appdata\\local\\programs\\python\\python39\\lib\\site-packages (from datasets) (3.18.0)\n",
      "Requirement already satisfied: numpy>=1.17 in c:\\users\\user\\appdata\\local\\programs\\python\\python39\\lib\\site-packages (from datasets) (1.26.3)\n",
      "Requirement already satisfied: pyarrow>=15.0.0 in c:\\users\\user\\appdata\\local\\programs\\python\\python39\\lib\\site-packages (from datasets) (19.0.0)\n",
      "Requirement already satisfied: dill<0.3.9,>=0.3.0 in c:\\users\\user\\appdata\\local\\programs\\python\\python39\\lib\\site-packages (from datasets) (0.3.8)\n",
      "Requirement already satisfied: pandas in c:\\users\\user\\appdata\\local\\programs\\python\\python39\\lib\\site-packages (from datasets) (2.2.0)\n",
      "Requirement already satisfied: requests>=2.32.2 in c:\\users\\user\\appdata\\local\\programs\\python\\python39\\lib\\site-packages (from datasets) (2.32.3)\n",
      "Requirement already satisfied: tqdm>=4.66.3 in c:\\users\\user\\appdata\\local\\programs\\python\\python39\\lib\\site-packages (from datasets) (4.67.1)\n",
      "Requirement already satisfied: xxhash in c:\\users\\user\\appdata\\local\\programs\\python\\python39\\lib\\site-packages (from datasets) (3.5.0)\n",
      "Requirement already satisfied: multiprocess<0.70.17 in c:\\users\\user\\appdata\\local\\programs\\python\\python39\\lib\\site-packages (from datasets) (0.70.16)\n",
      "Requirement already satisfied: fsspec<=2025.3.0,>=2023.1.0 in c:\\users\\user\\appdata\\local\\programs\\python\\python39\\lib\\site-packages (from fsspec[http]<=2025.3.0,>=2023.1.0->datasets) (2025.3.0)\n",
      "Requirement already satisfied: huggingface-hub>=0.24.0 in c:\\users\\user\\appdata\\local\\programs\\python\\python39\\lib\\site-packages (from datasets) (0.31.1)\n",
      "Requirement already satisfied: packaging in c:\\users\\user\\appdata\\local\\programs\\python\\python39\\lib\\site-packages (from datasets) (23.2)\n",
      "Requirement already satisfied: pyyaml>=5.1 in c:\\users\\user\\appdata\\local\\programs\\python\\python39\\lib\\site-packages (from datasets) (6.0.1)\n",
      "Requirement already satisfied: aiohttp!=4.0.0a0,!=4.0.0a1 in c:\\users\\user\\appdata\\local\\programs\\python\\python39\\lib\\site-packages (from fsspec[http]<=2025.3.0,>=2023.1.0->datasets) (3.11.18)\n",
      "Requirement already satisfied: typing-extensions>=3.7.4.3 in c:\\users\\user\\appdata\\local\\programs\\python\\python39\\lib\\site-packages (from huggingface-hub>=0.24.0->datasets) (4.12.2)\n",
      "Requirement already satisfied: charset-normalizer<4,>=2 in c:\\users\\user\\appdata\\local\\programs\\python\\python39\\lib\\site-packages (from requests>=2.32.2->datasets) (3.3.0)\n",
      "Requirement already satisfied: idna<4,>=2.5 in c:\\users\\user\\appdata\\local\\programs\\python\\python39\\lib\\site-packages (from requests>=2.32.2->datasets) (3.4)\n",
      "Requirement already satisfied: urllib3<3,>=1.21.1 in c:\\users\\user\\appdata\\local\\programs\\python\\python39\\lib\\site-packages (from requests>=2.32.2->datasets) (2.0.6)\n",
      "Requirement already satisfied: certifi>=2017.4.17 in c:\\users\\user\\appdata\\local\\programs\\python\\python39\\lib\\site-packages (from requests>=2.32.2->datasets) (2023.7.22)\n",
      "Requirement already satisfied: colorama in c:\\users\\user\\appdata\\local\\programs\\python\\python39\\lib\\site-packages (from tqdm>=4.66.3->datasets) (0.4.6)\n",
      "Requirement already satisfied: python-dateutil>=2.8.2 in c:\\users\\user\\appdata\\local\\programs\\python\\python39\\lib\\site-packages (from pandas->datasets) (2.8.2)\n",
      "Requirement already satisfied: pytz>=2020.1 in c:\\users\\user\\appdata\\local\\programs\\python\\python39\\lib\\site-packages (from pandas->datasets) (2025.1)\n",
      "Requirement already satisfied: tzdata>=2022.7 in c:\\users\\user\\appdata\\local\\programs\\python\\python39\\lib\\site-packages (from pandas->datasets) (2025.1)\n",
      "Requirement already satisfied: aiohappyeyeballs>=2.3.0 in c:\\users\\user\\appdata\\local\\programs\\python\\python39\\lib\\site-packages (from aiohttp!=4.0.0a0,!=4.0.0a1->fsspec[http]<=2025.3.0,>=2023.1.0->datasets) (2.6.1)\n",
      "Requirement already satisfied: aiosignal>=1.1.2 in c:\\users\\user\\appdata\\local\\programs\\python\\python39\\lib\\site-packages (from aiohttp!=4.0.0a0,!=4.0.0a1->fsspec[http]<=2025.3.0,>=2023.1.0->datasets) (1.3.2)\n",
      "Requirement already satisfied: async-timeout<6.0,>=4.0 in c:\\users\\user\\appdata\\local\\programs\\python\\python39\\lib\\site-packages (from aiohttp!=4.0.0a0,!=4.0.0a1->fsspec[http]<=2025.3.0,>=2023.1.0->datasets) (5.0.1)\n",
      "Requirement already satisfied: attrs>=17.3.0 in c:\\users\\user\\appdata\\local\\programs\\python\\python39\\lib\\site-packages (from aiohttp!=4.0.0a0,!=4.0.0a1->fsspec[http]<=2025.3.0,>=2023.1.0->datasets) (23.1.0)\n",
      "Requirement already satisfied: frozenlist>=1.1.1 in c:\\users\\user\\appdata\\local\\programs\\python\\python39\\lib\\site-packages (from aiohttp!=4.0.0a0,!=4.0.0a1->fsspec[http]<=2025.3.0,>=2023.1.0->datasets) (1.6.0)\n",
      "Requirement already satisfied: multidict<7.0,>=4.5 in c:\\users\\user\\appdata\\local\\programs\\python\\python39\\lib\\site-packages (from aiohttp!=4.0.0a0,!=4.0.0a1->fsspec[http]<=2025.3.0,>=2023.1.0->datasets) (6.4.3)\n",
      "Requirement already satisfied: propcache>=0.2.0 in c:\\users\\user\\appdata\\local\\programs\\python\\python39\\lib\\site-packages (from aiohttp!=4.0.0a0,!=4.0.0a1->fsspec[http]<=2025.3.0,>=2023.1.0->datasets) (0.3.1)\n",
      "Requirement already satisfied: yarl<2.0,>=1.17.0 in c:\\users\\user\\appdata\\local\\programs\\python\\python39\\lib\\site-packages (from aiohttp!=4.0.0a0,!=4.0.0a1->fsspec[http]<=2025.3.0,>=2023.1.0->datasets) (1.20.0)\n",
      "Requirement already satisfied: six>=1.5 in c:\\users\\user\\appdata\\local\\programs\\python\\python39\\lib\\site-packages (from python-dateutil>=2.8.2->pandas->datasets) (1.16.0)\n"
     ]
    },
    {
     "name": "stderr",
     "output_type": "stream",
     "text": [
      "\n",
      "[notice] A new release of pip is available: 23.3.1 -> 25.1.1\n",
      "[notice] To update, run: python.exe -m pip install --upgrade pip\n"
     ]
    },
    {
     "name": "stdout",
     "output_type": "stream",
     "text": [
      "Collecting bertviz\n",
      "  Downloading bertviz-1.4.0-py3-none-any.whl.metadata (19 kB)\n",
      "Requirement already satisfied: transformers>=2.0 in c:\\users\\user\\appdata\\local\\programs\\python\\python39\\lib\\site-packages (from bertviz) (4.51.3)\n",
      "Requirement already satisfied: torch>=1.0 in c:\\users\\user\\appdata\\local\\programs\\python\\python39\\lib\\site-packages (from bertviz) (2.7.0+cpu)\n",
      "Requirement already satisfied: tqdm in c:\\users\\user\\appdata\\local\\programs\\python\\python39\\lib\\site-packages (from bertviz) (4.67.1)\n",
      "Collecting boto3 (from bertviz)\n",
      "  Downloading boto3-1.38.16-py3-none-any.whl.metadata (6.6 kB)\n",
      "Requirement already satisfied: requests in c:\\users\\user\\appdata\\local\\programs\\python\\python39\\lib\\site-packages (from bertviz) (2.32.3)\n",
      "Requirement already satisfied: regex in c:\\users\\user\\appdata\\local\\programs\\python\\python39\\lib\\site-packages (from bertviz) (2024.11.6)\n",
      "Collecting sentencepiece (from bertviz)\n",
      "  Downloading sentencepiece-0.2.0-cp39-cp39-win_amd64.whl.metadata (8.3 kB)\n",
      "Requirement already satisfied: filelock in c:\\users\\user\\appdata\\local\\programs\\python\\python39\\lib\\site-packages (from torch>=1.0->bertviz) (3.18.0)\n",
      "Requirement already satisfied: typing-extensions>=4.10.0 in c:\\users\\user\\appdata\\local\\programs\\python\\python39\\lib\\site-packages (from torch>=1.0->bertviz) (4.12.2)\n",
      "Requirement already satisfied: sympy>=1.13.3 in c:\\users\\user\\appdata\\local\\programs\\python\\python39\\lib\\site-packages (from torch>=1.0->bertviz) (1.14.0)\n",
      "Requirement already satisfied: networkx in c:\\users\\user\\appdata\\local\\programs\\python\\python39\\lib\\site-packages (from torch>=1.0->bertviz) (3.2.1)\n",
      "Requirement already satisfied: jinja2 in c:\\users\\user\\appdata\\local\\programs\\python\\python39\\lib\\site-packages (from torch>=1.0->bertviz) (3.1.2)\n",
      "Requirement already satisfied: fsspec in c:\\users\\user\\appdata\\local\\programs\\python\\python39\\lib\\site-packages (from torch>=1.0->bertviz) (2025.3.0)\n",
      "Requirement already satisfied: huggingface-hub<1.0,>=0.30.0 in c:\\users\\user\\appdata\\local\\programs\\python\\python39\\lib\\site-packages (from transformers>=2.0->bertviz) (0.31.1)\n",
      "Requirement already satisfied: numpy>=1.17 in c:\\users\\user\\appdata\\local\\programs\\python\\python39\\lib\\site-packages (from transformers>=2.0->bertviz) (1.26.3)\n",
      "Requirement already satisfied: packaging>=20.0 in c:\\users\\user\\appdata\\local\\programs\\python\\python39\\lib\\site-packages (from transformers>=2.0->bertviz) (23.2)\n",
      "Requirement already satisfied: pyyaml>=5.1 in c:\\users\\user\\appdata\\local\\programs\\python\\python39\\lib\\site-packages (from transformers>=2.0->bertviz) (6.0.1)\n",
      "Requirement already satisfied: tokenizers<0.22,>=0.21 in c:\\users\\user\\appdata\\local\\programs\\python\\python39\\lib\\site-packages (from transformers>=2.0->bertviz) (0.21.1)\n",
      "Requirement already satisfied: safetensors>=0.4.3 in c:\\users\\user\\appdata\\local\\programs\\python\\python39\\lib\\site-packages (from transformers>=2.0->bertviz) (0.5.3)\n",
      "Requirement already satisfied: colorama in c:\\users\\user\\appdata\\local\\programs\\python\\python39\\lib\\site-packages (from tqdm->bertviz) (0.4.6)\n",
      "Collecting botocore<1.39.0,>=1.38.16 (from boto3->bertviz)\n",
      "  Downloading botocore-1.38.16-py3-none-any.whl.metadata (5.7 kB)\n",
      "Collecting jmespath<2.0.0,>=0.7.1 (from boto3->bertviz)\n",
      "  Downloading jmespath-1.0.1-py3-none-any.whl.metadata (7.6 kB)\n",
      "Collecting s3transfer<0.13.0,>=0.12.0 (from boto3->bertviz)\n",
      "  Downloading s3transfer-0.12.0-py3-none-any.whl.metadata (1.7 kB)\n",
      "Requirement already satisfied: charset-normalizer<4,>=2 in c:\\users\\user\\appdata\\local\\programs\\python\\python39\\lib\\site-packages (from requests->bertviz) (3.3.0)\n",
      "Requirement already satisfied: idna<4,>=2.5 in c:\\users\\user\\appdata\\local\\programs\\python\\python39\\lib\\site-packages (from requests->bertviz) (3.4)\n",
      "Requirement already satisfied: urllib3<3,>=1.21.1 in c:\\users\\user\\appdata\\local\\programs\\python\\python39\\lib\\site-packages (from requests->bertviz) (2.0.6)\n",
      "Requirement already satisfied: certifi>=2017.4.17 in c:\\users\\user\\appdata\\local\\programs\\python\\python39\\lib\\site-packages (from requests->bertviz) (2023.7.22)\n",
      "Requirement already satisfied: python-dateutil<3.0.0,>=2.1 in c:\\users\\user\\appdata\\local\\programs\\python\\python39\\lib\\site-packages (from botocore<1.39.0,>=1.38.16->boto3->bertviz) (2.8.2)\n",
      "Collecting urllib3<3,>=1.21.1 (from requests->bertviz)\n",
      "  Downloading urllib3-1.26.20-py2.py3-none-any.whl.metadata (50 kB)\n",
      "     ---------------------------------------- 0.0/50.1 kB ? eta -:--:--\n",
      "     ------------------------ --------------- 30.7/50.1 kB ? eta -:--:--\n",
      "     ------------------------ --------------- 30.7/50.1 kB ? eta -:--:--\n",
      "     ------------------------ --------------- 30.7/50.1 kB ? eta -:--:--\n",
      "     ------------------------ --------------- 30.7/50.1 kB ? eta -:--:--\n",
      "     -------------------------------------- 50.1/50.1 kB 181.9 kB/s eta 0:00:00\n",
      "Requirement already satisfied: mpmath<1.4,>=1.1.0 in c:\\users\\user\\appdata\\local\\programs\\python\\python39\\lib\\site-packages (from sympy>=1.13.3->torch>=1.0->bertviz) (1.3.0)\n",
      "Requirement already satisfied: MarkupSafe>=2.0 in c:\\users\\user\\appdata\\local\\programs\\python\\python39\\lib\\site-packages (from jinja2->torch>=1.0->bertviz) (2.1.3)\n",
      "Requirement already satisfied: six>=1.5 in c:\\users\\user\\appdata\\local\\programs\\python\\python39\\lib\\site-packages (from python-dateutil<3.0.0,>=2.1->botocore<1.39.0,>=1.38.16->boto3->bertviz) (1.16.0)\n",
      "Downloading bertviz-1.4.0-py3-none-any.whl (157 kB)\n",
      "   ---------------------------------------- 0.0/157.6 kB ? eta -:--:--\n",
      "   ---------- ---------------------------- 41.0/157.6 kB 960.0 kB/s eta 0:00:01\n",
      "   ---------- ---------------------------- 41.0/157.6 kB 960.0 kB/s eta 0:00:01\n",
      "   -------------------- ------------------ 81.9/157.6 kB 651.6 kB/s eta 0:00:01\n",
      "   -------------------------------------- 157.6/157.6 kB 856.5 kB/s eta 0:00:00\n",
      "Downloading boto3-1.38.16-py3-none-any.whl (139 kB)\n",
      "   ---------------------------------------- 0.0/139.9 kB ? eta -:--:--\n",
      "   ---------------------------------------- 139.9/139.9 kB 4.2 MB/s eta 0:00:00\n",
      "Downloading sentencepiece-0.2.0-cp39-cp39-win_amd64.whl (991 kB)\n",
      "   ---------------------------------------- 0.0/991.5 kB ? eta -:--:--\n",
      "   ---------- ----------------------------- 256.0/991.5 kB 5.3 MB/s eta 0:00:01\n",
      "   -------------- ------------------------- 368.6/991.5 kB 2.9 MB/s eta 0:00:01\n",
      "   ----------------- ---------------------- 440.3/991.5 kB 2.5 MB/s eta 0:00:01\n",
      "   --------------------------- ------------ 686.1/991.5 kB 2.7 MB/s eta 0:00:01\n",
      "   ----------------------------------- ---- 890.9/991.5 kB 2.8 MB/s eta 0:00:01\n",
      "   ----------------------------------- ---- 890.9/991.5 kB 2.8 MB/s eta 0:00:01\n",
      "   -------------------------------------- - 942.1/991.5 kB 2.2 MB/s eta 0:00:01\n",
      "   ---------------------------------------- 991.5/991.5 kB 2.2 MB/s eta 0:00:00\n",
      "Downloading botocore-1.38.16-py3-none-any.whl (13.6 MB)\n",
      "   ---------------------------------------- 0.0/13.6 MB ? eta -:--:--\n",
      "   ---------------------------------------- 0.1/13.6 MB 5.1 MB/s eta 0:00:03\n",
      "   - -------------------------------------- 0.4/13.6 MB 2.9 MB/s eta 0:00:05\n",
      "   - -------------------------------------- 0.5/13.6 MB 2.4 MB/s eta 0:00:06\n",
      "   - -------------------------------------- 0.5/13.6 MB 2.3 MB/s eta 0:00:06\n",
      "   - -------------------------------------- 0.6/13.6 MB 1.9 MB/s eta 0:00:07\n",
      "   - -------------------------------------- 0.6/13.6 MB 1.9 MB/s eta 0:00:07\n",
      "   - -------------------------------------- 0.6/13.6 MB 1.6 MB/s eta 0:00:09\n",
      "   -- ------------------------------------- 0.8/13.6 MB 1.7 MB/s eta 0:00:08\n",
      "   -- ------------------------------------- 0.9/13.6 MB 1.8 MB/s eta 0:00:08\n",
      "   -- ------------------------------------- 1.0/13.6 MB 1.8 MB/s eta 0:00:07\n",
      "   --- ------------------------------------ 1.0/13.6 MB 1.7 MB/s eta 0:00:08\n",
      "   --- ------------------------------------ 1.1/13.6 MB 1.6 MB/s eta 0:00:09\n",
      "   --- ------------------------------------ 1.1/13.6 MB 1.6 MB/s eta 0:00:08\n",
      "   --- ------------------------------------ 1.1/13.6 MB 1.6 MB/s eta 0:00:08\n",
      "   --- ------------------------------------ 1.1/13.6 MB 1.4 MB/s eta 0:00:09\n",
      "   --- ------------------------------------ 1.1/13.6 MB 1.4 MB/s eta 0:00:09\n",
      "   --- ------------------------------------ 1.2/13.6 MB 1.3 MB/s eta 0:00:10\n",
      "   --- ------------------------------------ 1.2/13.6 MB 1.3 MB/s eta 0:00:10\n",
      "   ---- ----------------------------------- 1.6/13.6 MB 1.5 MB/s eta 0:00:08\n",
      "   ---- ----------------------------------- 1.6/13.6 MB 1.5 MB/s eta 0:00:08\n",
      "   ---- ----------------------------------- 1.6/13.6 MB 1.5 MB/s eta 0:00:08\n",
      "   ----- ---------------------------------- 1.8/13.6 MB 1.4 MB/s eta 0:00:09\n",
      "   ------ --------------------------------- 2.1/13.6 MB 1.4 MB/s eta 0:00:09\n",
      "   ------- -------------------------------- 2.4/13.6 MB 1.4 MB/s eta 0:00:08\n",
      "   ------- -------------------------------- 2.7/13.6 MB 1.6 MB/s eta 0:00:07\n",
      "   -------- ------------------------------- 2.7/13.6 MB 1.6 MB/s eta 0:00:07\n",
      "   -------- ------------------------------- 2.8/13.6 MB 1.5 MB/s eta 0:00:08\n",
      "   -------- ------------------------------- 2.9/13.6 MB 1.6 MB/s eta 0:00:07\n",
      "   -------- ------------------------------- 2.9/13.6 MB 1.5 MB/s eta 0:00:08\n",
      "   -------- ------------------------------- 2.9/13.6 MB 1.5 MB/s eta 0:00:08\n",
      "   -------- ------------------------------- 3.0/13.6 MB 1.4 MB/s eta 0:00:08\n",
      "   -------- ------------------------------- 3.0/13.6 MB 1.4 MB/s eta 0:00:08\n",
      "   -------- ------------------------------- 3.0/13.6 MB 1.4 MB/s eta 0:00:08\n",
      "   --------- ------------------------------ 3.1/13.6 MB 1.4 MB/s eta 0:00:08\n",
      "   --------- ------------------------------ 3.2/13.6 MB 1.4 MB/s eta 0:00:08\n",
      "   ---------- ----------------------------- 3.4/13.6 MB 1.5 MB/s eta 0:00:07\n",
      "   ---------- ----------------------------- 3.6/13.6 MB 1.5 MB/s eta 0:00:07\n",
      "   ---------- ----------------------------- 3.7/13.6 MB 1.5 MB/s eta 0:00:07\n",
      "   ---------- ----------------------------- 3.7/13.6 MB 1.5 MB/s eta 0:00:07\n",
      "   ---------- ----------------------------- 3.7/13.6 MB 1.5 MB/s eta 0:00:07\n",
      "   ----------- ---------------------------- 3.8/13.6 MB 1.5 MB/s eta 0:00:07\n",
      "   ----------- ---------------------------- 3.8/13.6 MB 1.4 MB/s eta 0:00:07\n",
      "   ----------- ---------------------------- 3.8/13.6 MB 1.4 MB/s eta 0:00:07\n",
      "   ----------- ---------------------------- 3.9/13.6 MB 1.4 MB/s eta 0:00:07\n",
      "   ----------- ---------------------------- 4.0/13.6 MB 1.4 MB/s eta 0:00:07\n",
      "   ----------- ---------------------------- 4.0/13.6 MB 1.4 MB/s eta 0:00:07\n",
      "   ----------- ---------------------------- 4.0/13.6 MB 1.4 MB/s eta 0:00:07\n",
      "   ------------ --------------------------- 4.1/13.6 MB 1.4 MB/s eta 0:00:07\n",
      "   ------------ --------------------------- 4.2/13.6 MB 1.4 MB/s eta 0:00:07\n",
      "   ------------ --------------------------- 4.2/13.6 MB 1.4 MB/s eta 0:00:07\n",
      "   ------------ --------------------------- 4.3/13.6 MB 1.4 MB/s eta 0:00:07\n",
      "   ------------ --------------------------- 4.3/13.6 MB 1.4 MB/s eta 0:00:07\n",
      "   ------------ --------------------------- 4.3/13.6 MB 1.4 MB/s eta 0:00:07\n",
      "   ------------ --------------------------- 4.4/13.6 MB 1.4 MB/s eta 0:00:07\n",
      "   ------------ --------------------------- 4.4/13.6 MB 1.3 MB/s eta 0:00:07\n",
      "   ------------- -------------------------- 4.6/13.6 MB 1.4 MB/s eta 0:00:07\n",
      "   ------------- -------------------------- 4.7/13.6 MB 1.4 MB/s eta 0:00:07\n",
      "   ------------- -------------------------- 4.7/13.6 MB 1.4 MB/s eta 0:00:07\n",
      "   -------------- ------------------------- 4.8/13.6 MB 1.4 MB/s eta 0:00:07\n",
      "   --------------- ------------------------ 5.3/13.6 MB 1.5 MB/s eta 0:00:06\n",
      "   --------------- ------------------------ 5.4/13.6 MB 1.5 MB/s eta 0:00:06\n",
      "   --------------- ------------------------ 5.4/13.6 MB 1.4 MB/s eta 0:00:06\n",
      "   ---------------- ----------------------- 5.6/13.6 MB 1.5 MB/s eta 0:00:06\n",
      "   ----------------- ---------------------- 5.8/13.6 MB 1.5 MB/s eta 0:00:06\n",
      "   ----------------- ---------------------- 5.8/13.6 MB 1.5 MB/s eta 0:00:06\n",
      "   ----------------- ---------------------- 5.9/13.6 MB 1.5 MB/s eta 0:00:06\n",
      "   ----------------- ---------------------- 5.9/13.6 MB 1.5 MB/s eta 0:00:06\n",
      "   ----------------- ---------------------- 5.9/13.6 MB 1.4 MB/s eta 0:00:06\n",
      "   ----------------- ---------------------- 5.9/13.6 MB 1.4 MB/s eta 0:00:06\n",
      "   ----------------- ---------------------- 6.1/13.6 MB 1.4 MB/s eta 0:00:06\n",
      "   ------------------ --------------------- 6.2/13.6 MB 1.5 MB/s eta 0:00:05\n",
      "   ------------------ --------------------- 6.4/13.6 MB 1.5 MB/s eta 0:00:05\n",
      "   ------------------- -------------------- 6.6/13.6 MB 1.5 MB/s eta 0:00:05\n",
      "   -------------------- ------------------- 6.9/13.6 MB 1.6 MB/s eta 0:00:05\n",
      "   -------------------- ------------------- 7.0/13.6 MB 1.6 MB/s eta 0:00:05\n",
      "   -------------------- ------------------- 7.0/13.6 MB 1.6 MB/s eta 0:00:05\n",
      "   --------------------- ------------------ 7.1/13.6 MB 1.6 MB/s eta 0:00:05\n",
      "   --------------------- ------------------ 7.2/13.6 MB 1.6 MB/s eta 0:00:05\n",
      "   --------------------- ------------------ 7.3/13.6 MB 1.6 MB/s eta 0:00:04\n",
      "   --------------------- ------------------ 7.5/13.6 MB 1.6 MB/s eta 0:00:04\n",
      "   ---------------------- ----------------- 7.5/13.6 MB 1.6 MB/s eta 0:00:04\n",
      "   ---------------------- ----------------- 7.7/13.6 MB 1.6 MB/s eta 0:00:04\n",
      "   ----------------------- ---------------- 8.0/13.6 MB 1.6 MB/s eta 0:00:04\n",
      "   ------------------------ --------------- 8.2/13.6 MB 1.7 MB/s eta 0:00:04\n",
      "   ------------------------ --------------- 8.4/13.6 MB 1.7 MB/s eta 0:00:04\n",
      "   ------------------------- -------------- 8.5/13.6 MB 1.7 MB/s eta 0:00:03\n",
      "   ------------------------- -------------- 8.5/13.6 MB 1.7 MB/s eta 0:00:03\n",
      "   ------------------------- -------------- 8.5/13.6 MB 1.7 MB/s eta 0:00:04\n",
      "   ------------------------- -------------- 8.6/13.6 MB 1.7 MB/s eta 0:00:03\n",
      "   ------------------------- -------------- 8.6/13.6 MB 1.7 MB/s eta 0:00:03\n",
      "   ------------------------- -------------- 8.6/13.6 MB 1.6 MB/s eta 0:00:04\n",
      "   -------------------------- ------------- 8.9/13.6 MB 1.7 MB/s eta 0:00:03\n",
      "   -------------------------- ------------- 8.9/13.6 MB 1.7 MB/s eta 0:00:03\n",
      "   -------------------------- ------------- 9.1/13.6 MB 1.7 MB/s eta 0:00:03\n",
      "   --------------------------- ------------ 9.3/13.6 MB 1.7 MB/s eta 0:00:03\n",
      "   ---------------------------- ----------- 9.5/13.6 MB 1.7 MB/s eta 0:00:03\n",
      "   ---------------------------- ----------- 9.7/13.6 MB 1.8 MB/s eta 0:00:03\n",
      "   ---------------------------- ----------- 9.7/13.6 MB 1.8 MB/s eta 0:00:03\n",
      "   ---------------------------- ----------- 9.8/13.6 MB 1.7 MB/s eta 0:00:03\n",
      "   ---------------------------- ----------- 9.8/13.6 MB 1.7 MB/s eta 0:00:03\n",
      "   ---------------------------- ----------- 9.8/13.6 MB 1.7 MB/s eta 0:00:03\n",
      "   ----------------------------- ---------- 9.9/13.6 MB 1.7 MB/s eta 0:00:03\n",
      "   ----------------------------- ---------- 10.0/13.6 MB 1.7 MB/s eta 0:00:03\n",
      "   ----------------------------- ---------- 10.0/13.6 MB 1.7 MB/s eta 0:00:03\n",
      "   ------------------------------ --------- 10.2/13.6 MB 1.7 MB/s eta 0:00:02\n",
      "   ------------------------------ --------- 10.4/13.6 MB 1.7 MB/s eta 0:00:02\n",
      "   ------------------------------- -------- 10.6/13.6 MB 1.7 MB/s eta 0:00:02\n",
      "   ------------------------------- -------- 10.7/13.6 MB 1.7 MB/s eta 0:00:02\n",
      "   -------------------------------- ------- 10.9/13.6 MB 1.8 MB/s eta 0:00:02\n",
      "   -------------------------------- ------- 11.0/13.6 MB 1.8 MB/s eta 0:00:02\n",
      "   -------------------------------- ------- 11.0/13.6 MB 1.8 MB/s eta 0:00:02\n",
      "   -------------------------------- ------- 11.0/13.6 MB 1.8 MB/s eta 0:00:02\n",
      "   -------------------------------- ------- 11.1/13.6 MB 1.7 MB/s eta 0:00:02\n",
      "   --------------------------------- ------ 11.4/13.6 MB 1.9 MB/s eta 0:00:02\n",
      "   --------------------------------- ------ 11.4/13.6 MB 1.8 MB/s eta 0:00:02\n",
      "   ---------------------------------- ----- 11.6/13.6 MB 1.9 MB/s eta 0:00:02\n",
      "   ---------------------------------- ----- 11.7/13.6 MB 1.9 MB/s eta 0:00:01\n",
      "   ---------------------------------- ----- 11.8/13.6 MB 1.8 MB/s eta 0:00:01\n",
      "   ---------------------------------- ----- 11.8/13.6 MB 1.8 MB/s eta 0:00:01\n",
      "   ----------------------------------- ---- 11.9/13.6 MB 1.9 MB/s eta 0:00:01\n",
      "   ----------------------------------- ---- 11.9/13.6 MB 1.9 MB/s eta 0:00:01\n",
      "   ----------------------------------- ---- 12.0/13.6 MB 1.9 MB/s eta 0:00:01\n",
      "   ----------------------------------- ---- 12.1/13.6 MB 1.9 MB/s eta 0:00:01\n",
      "   ----------------------------------- ---- 12.2/13.6 MB 1.9 MB/s eta 0:00:01\n",
      "   ----------------------------------- ---- 12.2/13.6 MB 1.9 MB/s eta 0:00:01\n",
      "   ------------------------------------- -- 12.6/13.6 MB 1.9 MB/s eta 0:00:01\n",
      "   ------------------------------------- -- 12.7/13.6 MB 1.9 MB/s eta 0:00:01\n",
      "   ------------------------------------- -- 12.8/13.6 MB 1.9 MB/s eta 0:00:01\n",
      "   ------------------------------------- -- 12.9/13.6 MB 1.9 MB/s eta 0:00:01\n",
      "   -------------------------------------- - 12.9/13.6 MB 1.9 MB/s eta 0:00:01\n",
      "   -------------------------------------- - 12.9/13.6 MB 1.9 MB/s eta 0:00:01\n",
      "   -------------------------------------- - 13.0/13.6 MB 1.9 MB/s eta 0:00:01\n",
      "   -------------------------------------- - 13.1/13.6 MB 1.9 MB/s eta 0:00:01\n",
      "   ---------------------------------------  13.3/13.6 MB 2.0 MB/s eta 0:00:01\n",
      "   ---------------------------------------  13.4/13.6 MB 2.0 MB/s eta 0:00:01\n",
      "   ---------------------------------------  13.5/13.6 MB 2.0 MB/s eta 0:00:01\n",
      "   ---------------------------------------  13.6/13.6 MB 2.0 MB/s eta 0:00:01\n",
      "   ---------------------------------------- 13.6/13.6 MB 2.0 MB/s eta 0:00:00\n",
      "Downloading jmespath-1.0.1-py3-none-any.whl (20 kB)\n",
      "Downloading s3transfer-0.12.0-py3-none-any.whl (84 kB)\n",
      "   ---------------------------------------- 0.0/84.8 kB ? eta -:--:--\n",
      "   --------------------------------- ------ 71.7/84.8 kB 4.1 MB/s eta 0:00:01\n",
      "   ---------------------------------------- 84.8/84.8 kB 801.4 kB/s eta 0:00:00\n",
      "Downloading urllib3-1.26.20-py2.py3-none-any.whl (144 kB)\n",
      "   ---------------------------------------- 0.0/144.2 kB ? eta -:--:--\n",
      "   ---------------------------------------- 144.2/144.2 kB 4.3 MB/s eta 0:00:00\n",
      "Installing collected packages: sentencepiece, urllib3, jmespath, botocore, s3transfer, boto3, bertviz\n",
      "  Attempting uninstall: urllib3\n",
      "    Found existing installation: urllib3 2.0.6\n",
      "    Uninstalling urllib3-2.0.6:\n",
      "      Successfully uninstalled urllib3-2.0.6\n",
      "Successfully installed bertviz-1.4.0 boto3-1.38.16 botocore-1.38.16 jmespath-1.0.1 s3transfer-0.12.0 sentencepiece-0.2.0 urllib3-1.26.20\n"
     ]
    },
    {
     "name": "stderr",
     "output_type": "stream",
     "text": [
      "\n",
      "[notice] A new release of pip is available: 23.3.1 -> 25.1.1\n",
      "[notice] To update, run: python.exe -m pip install --upgrade pip\n"
     ]
    },
    {
     "name": "stdout",
     "output_type": "stream",
     "text": [
      "Collecting umap-learn\n",
      "  Downloading umap_learn-0.5.7-py3-none-any.whl.metadata (21 kB)\n",
      "Requirement already satisfied: numpy>=1.17 in c:\\users\\user\\appdata\\local\\programs\\python\\python39\\lib\\site-packages (from umap-learn) (1.26.3)\n",
      "Requirement already satisfied: scipy>=1.3.1 in c:\\users\\user\\appdata\\local\\programs\\python\\python39\\lib\\site-packages (from umap-learn) (1.11.4)\n",
      "Requirement already satisfied: scikit-learn>=0.22 in c:\\users\\user\\appdata\\local\\programs\\python\\python39\\lib\\site-packages (from umap-learn) (1.4.0)\n",
      "Collecting numba>=0.51.2 (from umap-learn)\n",
      "  Downloading numba-0.60.0-cp39-cp39-win_amd64.whl.metadata (2.8 kB)\n",
      "Collecting pynndescent>=0.5 (from umap-learn)\n",
      "  Downloading pynndescent-0.5.13-py3-none-any.whl.metadata (6.8 kB)\n",
      "Requirement already satisfied: tqdm in c:\\users\\user\\appdata\\local\\programs\\python\\python39\\lib\\site-packages (from umap-learn) (4.67.1)\n",
      "Collecting llvmlite<0.44,>=0.43.0dev0 (from numba>=0.51.2->umap-learn)\n",
      "  Downloading llvmlite-0.43.0-cp39-cp39-win_amd64.whl.metadata (4.9 kB)\n",
      "Requirement already satisfied: joblib>=0.11 in c:\\users\\user\\appdata\\local\\programs\\python\\python39\\lib\\site-packages (from pynndescent>=0.5->umap-learn) (1.3.2)\n",
      "Requirement already satisfied: threadpoolctl>=2.0.0 in c:\\users\\user\\appdata\\local\\programs\\python\\python39\\lib\\site-packages (from scikit-learn>=0.22->umap-learn) (3.2.0)\n",
      "Requirement already satisfied: colorama in c:\\users\\user\\appdata\\local\\programs\\python\\python39\\lib\\site-packages (from tqdm->umap-learn) (0.4.6)\n",
      "Downloading umap_learn-0.5.7-py3-none-any.whl (88 kB)\n",
      "   ---------------------------------------- 0.0/88.8 kB ? eta -:--:--\n",
      "   ---- ----------------------------------- 10.2/88.8 kB ? eta -:--:--\n",
      "   --------------------------- ------------ 61.4/88.8 kB 544.7 kB/s eta 0:00:01\n",
      "   ------------------------------------ --- 81.9/88.8 kB 508.4 kB/s eta 0:00:01\n",
      "   ---------------------------------------- 88.8/88.8 kB 503.7 kB/s eta 0:00:00\n",
      "Downloading numba-0.60.0-cp39-cp39-win_amd64.whl (2.7 MB)\n",
      "   ---------------------------------------- 0.0/2.7 MB ? eta -:--:--\n",
      "    --------------------------------------- 0.1/2.7 MB 3.2 MB/s eta 0:00:01\n",
      "   - -------------------------------------- 0.1/2.7 MB 653.6 kB/s eta 0:00:05\n",
      "   -- ------------------------------------- 0.2/2.7 MB 807.1 kB/s eta 0:00:04\n",
      "   --- ------------------------------------ 0.2/2.7 MB 731.4 kB/s eta 0:00:04\n",
      "   ---- ----------------------------------- 0.3/2.7 MB 936.6 kB/s eta 0:00:03\n",
      "   ------- -------------------------------- 0.5/2.7 MB 1.3 MB/s eta 0:00:02\n",
      "   -------- ------------------------------- 0.6/2.7 MB 1.2 MB/s eta 0:00:02\n",
      "   --------- ------------------------------ 0.6/2.7 MB 1.3 MB/s eta 0:00:02\n",
      "   --------- ------------------------------ 0.7/2.7 MB 1.2 MB/s eta 0:00:02\n",
      "   --------------- ------------------------ 1.0/2.7 MB 1.7 MB/s eta 0:00:01\n",
      "   ----------------- ---------------------- 1.2/2.7 MB 1.8 MB/s eta 0:00:01\n",
      "   ------------------ --------------------- 1.3/2.7 MB 1.8 MB/s eta 0:00:01\n",
      "   -------------------- ------------------- 1.4/2.7 MB 1.8 MB/s eta 0:00:01\n",
      "   --------------------- ------------------ 1.5/2.7 MB 1.8 MB/s eta 0:00:01\n",
      "   ---------------------- ----------------- 1.5/2.7 MB 1.8 MB/s eta 0:00:01\n",
      "   ----------------------- ---------------- 1.5/2.7 MB 1.7 MB/s eta 0:00:01\n",
      "   ----------------------- ---------------- 1.5/2.7 MB 1.7 MB/s eta 0:00:01\n",
      "   ------------------------ --------------- 1.6/2.7 MB 1.7 MB/s eta 0:00:01\n",
      "   ------------------------ --------------- 1.7/2.7 MB 1.6 MB/s eta 0:00:01\n",
      "   -------------------------- ------------- 1.8/2.7 MB 1.6 MB/s eta 0:00:01\n",
      "   --------------------------- ------------ 1.9/2.7 MB 1.6 MB/s eta 0:00:01\n",
      "   ----------------------------- ---------- 2.0/2.7 MB 1.7 MB/s eta 0:00:01\n",
      "   -------------------------------- ------- 2.2/2.7 MB 1.8 MB/s eta 0:00:01\n",
      "   --------------------------------- ------ 2.2/2.7 MB 1.7 MB/s eta 0:00:01\n",
      "   ---------------------------------- ----- 2.3/2.7 MB 1.7 MB/s eta 0:00:01\n",
      "   ----------------------------------- ---- 2.4/2.7 MB 1.7 MB/s eta 0:00:01\n",
      "   ------------------------------------ --- 2.5/2.7 MB 1.7 MB/s eta 0:00:01\n",
      "   ------------------------------------- -- 2.5/2.7 MB 1.7 MB/s eta 0:00:01\n",
      "   -------------------------------------- - 2.6/2.7 MB 1.7 MB/s eta 0:00:01\n",
      "   ---------------------------------------  2.7/2.7 MB 1.6 MB/s eta 0:00:01\n",
      "   ---------------------------------------- 2.7/2.7 MB 1.6 MB/s eta 0:00:00\n",
      "Downloading pynndescent-0.5.13-py3-none-any.whl (56 kB)\n",
      "   ---------------------------------------- 0.0/56.9 kB ? eta -:--:--\n",
      "   ---------------------------------------- 56.9/56.9 kB 2.9 MB/s eta 0:00:00\n",
      "Downloading llvmlite-0.43.0-cp39-cp39-win_amd64.whl (28.1 MB)\n",
      "   ---------------------------------------- 0.0/28.1 MB ? eta -:--:--\n",
      "   ---------------------------------------- 0.1/28.1 MB 1.9 MB/s eta 0:00:15\n",
      "   ---------------------------------------- 0.1/28.1 MB 1.7 MB/s eta 0:00:17\n",
      "   ---------------------------------------- 0.2/28.1 MB 1.5 MB/s eta 0:00:19\n",
      "   ---------------------------------------- 0.2/28.1 MB 1.1 MB/s eta 0:00:25\n",
      "   ---------------------------------------- 0.3/28.1 MB 1.3 MB/s eta 0:00:23\n",
      "   ---------------------------------------- 0.3/28.1 MB 1.3 MB/s eta 0:00:23\n",
      "   ---------------------------------------- 0.3/28.1 MB 982.3 kB/s eta 0:00:29\n",
      "    --------------------------------------- 0.5/28.1 MB 1.1 MB/s eta 0:00:26\n",
      "    --------------------------------------- 0.7/28.1 MB 1.4 MB/s eta 0:00:20\n",
      "   - -------------------------------------- 0.9/28.1 MB 1.8 MB/s eta 0:00:16\n",
      "   - -------------------------------------- 1.0/28.1 MB 1.7 MB/s eta 0:00:17\n",
      "   - -------------------------------------- 1.2/28.1 MB 1.7 MB/s eta 0:00:16\n",
      "   - -------------------------------------- 1.3/28.1 MB 1.8 MB/s eta 0:00:16\n",
      "   - -------------------------------------- 1.3/28.1 MB 1.8 MB/s eta 0:00:16\n",
      "   -- ------------------------------------- 1.4/28.1 MB 1.7 MB/s eta 0:00:16\n",
      "   -- ------------------------------------- 1.5/28.1 MB 1.7 MB/s eta 0:00:16\n",
      "   -- ------------------------------------- 1.6/28.1 MB 1.7 MB/s eta 0:00:16\n",
      "   -- ------------------------------------- 1.6/28.1 MB 1.7 MB/s eta 0:00:16\n",
      "   -- ------------------------------------- 1.6/28.1 MB 1.6 MB/s eta 0:00:17\n",
      "   -- ------------------------------------- 1.9/28.1 MB 1.8 MB/s eta 0:00:15\n",
      "   -- ------------------------------------- 2.0/28.1 MB 1.8 MB/s eta 0:00:15\n",
      "   -- ------------------------------------- 2.1/28.1 MB 1.7 MB/s eta 0:00:16\n",
      "   --- ------------------------------------ 2.3/28.1 MB 1.8 MB/s eta 0:00:15\n",
      "   --- ------------------------------------ 2.3/28.1 MB 1.8 MB/s eta 0:00:15\n",
      "   --- ------------------------------------ 2.4/28.1 MB 1.8 MB/s eta 0:00:15\n",
      "   --- ------------------------------------ 2.5/28.1 MB 1.7 MB/s eta 0:00:15\n",
      "   --- ------------------------------------ 2.5/28.1 MB 1.7 MB/s eta 0:00:16\n",
      "   --- ------------------------------------ 2.6/28.1 MB 1.7 MB/s eta 0:00:16\n",
      "   ---- ----------------------------------- 2.8/28.1 MB 1.7 MB/s eta 0:00:15\n",
      "   ---- ----------------------------------- 3.2/28.1 MB 1.9 MB/s eta 0:00:14\n",
      "   ---- ----------------------------------- 3.3/28.1 MB 1.9 MB/s eta 0:00:14\n",
      "   ---- ----------------------------------- 3.3/28.1 MB 1.9 MB/s eta 0:00:14\n",
      "   ---- ----------------------------------- 3.3/28.1 MB 1.8 MB/s eta 0:00:14\n",
      "   ----- ---------------------------------- 3.7/28.1 MB 1.9 MB/s eta 0:00:13\n",
      "   ----- ---------------------------------- 3.9/28.1 MB 2.0 MB/s eta 0:00:13\n",
      "   ----- ---------------------------------- 4.0/28.1 MB 2.0 MB/s eta 0:00:13\n",
      "   ----- ---------------------------------- 4.1/28.1 MB 2.0 MB/s eta 0:00:13\n",
      "   ------ --------------------------------- 4.3/28.1 MB 2.0 MB/s eta 0:00:12\n",
      "   ------ --------------------------------- 4.9/28.1 MB 2.2 MB/s eta 0:00:11\n",
      "   ------- -------------------------------- 5.0/28.1 MB 2.2 MB/s eta 0:00:11\n",
      "   ------- -------------------------------- 5.2/28.1 MB 2.3 MB/s eta 0:00:11\n",
      "   ------- -------------------------------- 5.5/28.1 MB 2.4 MB/s eta 0:00:10\n",
      "   -------- ------------------------------- 5.9/28.1 MB 2.4 MB/s eta 0:00:10\n",
      "   -------- ------------------------------- 6.0/28.1 MB 2.4 MB/s eta 0:00:10\n",
      "   --------- ------------------------------ 6.3/28.1 MB 2.5 MB/s eta 0:00:09\n",
      "   --------- ------------------------------ 6.5/28.1 MB 2.5 MB/s eta 0:00:09\n",
      "   --------- ------------------------------ 6.5/28.1 MB 2.5 MB/s eta 0:00:09\n",
      "   --------- ------------------------------ 6.6/28.1 MB 2.5 MB/s eta 0:00:09\n",
      "   --------- ------------------------------ 6.8/28.1 MB 2.4 MB/s eta 0:00:09\n",
      "   ---------- ----------------------------- 7.3/28.1 MB 2.6 MB/s eta 0:00:09\n",
      "   ----------- ---------------------------- 7.8/28.1 MB 2.6 MB/s eta 0:00:08\n",
      "   ----------- ---------------------------- 7.9/28.1 MB 2.6 MB/s eta 0:00:08\n",
      "   ----------- ---------------------------- 8.3/28.1 MB 2.7 MB/s eta 0:00:08\n",
      "   ------------ --------------------------- 8.6/28.1 MB 2.7 MB/s eta 0:00:08\n",
      "   ------------ --------------------------- 8.8/28.1 MB 2.7 MB/s eta 0:00:08\n",
      "   ------------ --------------------------- 9.1/28.1 MB 2.8 MB/s eta 0:00:07\n",
      "   ------------- -------------------------- 9.5/28.1 MB 2.9 MB/s eta 0:00:07\n",
      "   ------------- -------------------------- 9.5/28.1 MB 2.9 MB/s eta 0:00:07\n",
      "   ------------- -------------------------- 9.5/28.1 MB 2.8 MB/s eta 0:00:07\n",
      "   -------------- ------------------------- 9.9/28.1 MB 2.8 MB/s eta 0:00:07\n",
      "   --------------- ------------------------ 10.8/28.1 MB 3.2 MB/s eta 0:00:06\n",
      "   --------------- ------------------------ 10.8/28.1 MB 3.2 MB/s eta 0:00:06\n",
      "   ---------------- ----------------------- 11.4/28.1 MB 3.3 MB/s eta 0:00:06\n",
      "   ---------------- ----------------------- 11.8/28.1 MB 3.5 MB/s eta 0:00:05\n",
      "   ---------------- ----------------------- 11.8/28.1 MB 3.5 MB/s eta 0:00:05\n",
      "   ---------------- ----------------------- 12.0/28.1 MB 3.5 MB/s eta 0:00:05\n",
      "   ----------------- ---------------------- 12.0/28.1 MB 3.4 MB/s eta 0:00:05\n",
      "   ----------------- ---------------------- 12.0/28.1 MB 3.4 MB/s eta 0:00:05\n",
      "   ----------------- ---------------------- 12.1/28.1 MB 3.3 MB/s eta 0:00:05\n",
      "   ----------------- ---------------------- 12.3/28.1 MB 3.3 MB/s eta 0:00:05\n",
      "   ----------------- ---------------------- 12.5/28.1 MB 3.2 MB/s eta 0:00:05\n",
      "   ----------------- ---------------------- 12.5/28.1 MB 3.3 MB/s eta 0:00:05\n",
      "   ----------------- ---------------------- 12.6/28.1 MB 3.3 MB/s eta 0:00:05\n",
      "   ----------------- ---------------------- 12.6/28.1 MB 3.3 MB/s eta 0:00:05\n",
      "   ------------------ --------------------- 12.7/28.1 MB 3.2 MB/s eta 0:00:05\n",
      "   ------------------ --------------------- 12.8/28.1 MB 3.3 MB/s eta 0:00:05\n",
      "   ------------------ --------------------- 12.8/28.1 MB 3.2 MB/s eta 0:00:05\n",
      "   ------------------ --------------------- 13.0/28.1 MB 3.3 MB/s eta 0:00:05\n",
      "   ------------------ --------------------- 13.0/28.1 MB 3.2 MB/s eta 0:00:05\n",
      "   ------------------ --------------------- 13.2/28.1 MB 3.2 MB/s eta 0:00:05\n",
      "   ------------------ --------------------- 13.2/28.1 MB 3.2 MB/s eta 0:00:05\n",
      "   ------------------ --------------------- 13.2/28.1 MB 3.2 MB/s eta 0:00:05\n",
      "   ------------------ --------------------- 13.3/28.1 MB 3.1 MB/s eta 0:00:05\n",
      "   ------------------- -------------------- 13.6/28.1 MB 3.2 MB/s eta 0:00:05\n",
      "   ------------------- -------------------- 13.8/28.1 MB 3.2 MB/s eta 0:00:05\n",
      "   ------------------- -------------------- 13.8/28.1 MB 3.2 MB/s eta 0:00:05\n",
      "   ------------------- -------------------- 13.9/28.1 MB 3.1 MB/s eta 0:00:05\n",
      "   -------------------- ------------------- 14.1/28.1 MB 3.1 MB/s eta 0:00:05\n",
      "   -------------------- ------------------- 14.1/28.1 MB 3.1 MB/s eta 0:00:05\n",
      "   -------------------- ------------------- 14.4/28.1 MB 3.2 MB/s eta 0:00:05\n",
      "   -------------------- ------------------- 14.6/28.1 MB 3.2 MB/s eta 0:00:05\n",
      "   -------------------- ------------------- 14.6/28.1 MB 3.1 MB/s eta 0:00:05\n",
      "   -------------------- ------------------- 14.6/28.1 MB 3.1 MB/s eta 0:00:05\n",
      "   -------------------- ------------------- 14.7/28.1 MB 3.0 MB/s eta 0:00:05\n",
      "   --------------------- ------------------ 15.0/28.1 MB 3.0 MB/s eta 0:00:05\n",
      "   --------------------- ------------------ 15.3/28.1 MB 3.0 MB/s eta 0:00:05\n",
      "   --------------------- ------------------ 15.4/28.1 MB 3.0 MB/s eta 0:00:05\n",
      "   ---------------------- ----------------- 15.5/28.1 MB 3.0 MB/s eta 0:00:05\n",
      "   ---------------------- ----------------- 15.9/28.1 MB 3.0 MB/s eta 0:00:05\n",
      "   ---------------------- ----------------- 16.1/28.1 MB 3.0 MB/s eta 0:00:05\n",
      "   ----------------------- ---------------- 16.5/28.1 MB 3.0 MB/s eta 0:00:04\n",
      "   ----------------------- ---------------- 16.7/28.1 MB 3.0 MB/s eta 0:00:04\n",
      "   ----------------------- ---------------- 16.8/28.1 MB 3.1 MB/s eta 0:00:04\n",
      "   ----------------------- ---------------- 16.8/28.1 MB 3.1 MB/s eta 0:00:04\n",
      "   ----------------------- ---------------- 16.9/28.1 MB 3.0 MB/s eta 0:00:04\n",
      "   ------------------------ --------------- 17.1/28.1 MB 3.0 MB/s eta 0:00:04\n",
      "   ------------------------ --------------- 17.4/28.1 MB 3.0 MB/s eta 0:00:04\n",
      "   ------------------------- -------------- 17.7/28.1 MB 3.0 MB/s eta 0:00:04\n",
      "   ------------------------- -------------- 18.0/28.1 MB 3.0 MB/s eta 0:00:04\n",
      "   ------------------------- -------------- 18.2/28.1 MB 3.1 MB/s eta 0:00:04\n",
      "   -------------------------- ------------- 18.4/28.1 MB 3.0 MB/s eta 0:00:04\n",
      "   -------------------------- ------------- 18.5/28.1 MB 3.0 MB/s eta 0:00:04\n",
      "   -------------------------- ------------- 18.9/28.1 MB 3.1 MB/s eta 0:00:04\n",
      "   -------------------------- ------------- 18.9/28.1 MB 3.0 MB/s eta 0:00:04\n",
      "   --------------------------- ------------ 19.1/28.1 MB 3.0 MB/s eta 0:00:04\n",
      "   --------------------------- ------------ 19.1/28.1 MB 3.0 MB/s eta 0:00:04\n",
      "   --------------------------- ------------ 19.1/28.1 MB 3.0 MB/s eta 0:00:04\n",
      "   --------------------------- ------------ 19.2/28.1 MB 2.9 MB/s eta 0:00:04\n",
      "   --------------------------- ------------ 19.2/28.1 MB 2.8 MB/s eta 0:00:04\n",
      "   --------------------------- ------------ 19.3/28.1 MB 2.8 MB/s eta 0:00:04\n",
      "   --------------------------- ------------ 19.4/28.1 MB 2.8 MB/s eta 0:00:04\n",
      "   --------------------------- ------------ 19.5/28.1 MB 2.7 MB/s eta 0:00:04\n",
      "   --------------------------- ------------ 19.6/28.1 MB 2.7 MB/s eta 0:00:04\n",
      "   --------------------------- ------------ 19.7/28.1 MB 2.7 MB/s eta 0:00:04\n",
      "   ---------------------------- ----------- 19.7/28.1 MB 2.7 MB/s eta 0:00:04\n",
      "   ---------------------------- ----------- 19.8/28.1 MB 2.7 MB/s eta 0:00:04\n",
      "   ---------------------------- ----------- 19.8/28.1 MB 2.7 MB/s eta 0:00:04\n",
      "   ---------------------------- ----------- 20.0/28.1 MB 2.7 MB/s eta 0:00:04\n",
      "   ---------------------------- ----------- 20.1/28.1 MB 2.6 MB/s eta 0:00:04\n",
      "   ---------------------------- ----------- 20.1/28.1 MB 2.7 MB/s eta 0:00:03\n",
      "   ---------------------------- ----------- 20.2/28.1 MB 2.6 MB/s eta 0:00:04\n",
      "   ---------------------------- ----------- 20.3/28.1 MB 2.6 MB/s eta 0:00:04\n",
      "   ----------------------------- ---------- 20.6/28.1 MB 2.5 MB/s eta 0:00:03\n",
      "   ----------------------------- ---------- 20.9/28.1 MB 2.5 MB/s eta 0:00:03\n",
      "   ----------------------------- ---------- 20.9/28.1 MB 2.5 MB/s eta 0:00:03\n",
      "   ----------------------------- ---------- 21.1/28.1 MB 2.6 MB/s eta 0:00:03\n",
      "   ------------------------------ --------- 21.1/28.1 MB 2.5 MB/s eta 0:00:03\n",
      "   ------------------------------ --------- 21.1/28.1 MB 2.5 MB/s eta 0:00:03\n",
      "   ------------------------------ --------- 21.5/28.1 MB 2.5 MB/s eta 0:00:03\n",
      "   ------------------------------ --------- 21.7/28.1 MB 2.5 MB/s eta 0:00:03\n",
      "   ------------------------------ --------- 21.7/28.1 MB 2.5 MB/s eta 0:00:03\n",
      "   ------------------------------- -------- 22.0/28.1 MB 2.4 MB/s eta 0:00:03\n",
      "   ------------------------------- -------- 22.1/28.1 MB 2.5 MB/s eta 0:00:03\n",
      "   ------------------------------- -------- 22.1/28.1 MB 2.5 MB/s eta 0:00:03\n",
      "   ------------------------------- -------- 22.2/28.1 MB 2.4 MB/s eta 0:00:03\n",
      "   ------------------------------- -------- 22.2/28.1 MB 2.5 MB/s eta 0:00:03\n",
      "   ------------------------------- -------- 22.3/28.1 MB 2.6 MB/s eta 0:00:03\n",
      "   ------------------------------- -------- 22.4/28.1 MB 2.5 MB/s eta 0:00:03\n",
      "   ------------------------------- -------- 22.4/28.1 MB 2.5 MB/s eta 0:00:03\n",
      "   -------------------------------- ------- 22.7/28.1 MB 2.5 MB/s eta 0:00:03\n",
      "   -------------------------------- ------- 22.9/28.1 MB 2.6 MB/s eta 0:00:02\n",
      "   -------------------------------- ------- 22.9/28.1 MB 2.6 MB/s eta 0:00:02\n",
      "   -------------------------------- ------- 23.0/28.1 MB 2.6 MB/s eta 0:00:02\n",
      "   -------------------------------- ------- 23.0/28.1 MB 2.6 MB/s eta 0:00:02\n",
      "   -------------------------------- ------- 23.0/28.1 MB 2.6 MB/s eta 0:00:02\n",
      "   -------------------------------- ------- 23.1/28.1 MB 2.5 MB/s eta 0:00:02\n",
      "   --------------------------------- ------ 23.3/28.1 MB 2.5 MB/s eta 0:00:02\n",
      "   --------------------------------- ------ 23.4/28.1 MB 2.5 MB/s eta 0:00:02\n",
      "   --------------------------------- ------ 23.4/28.1 MB 2.6 MB/s eta 0:00:02\n",
      "   --------------------------------- ------ 23.5/28.1 MB 2.5 MB/s eta 0:00:02\n",
      "   --------------------------------- ------ 23.5/28.1 MB 2.5 MB/s eta 0:00:02\n",
      "   --------------------------------- ------ 23.6/28.1 MB 2.5 MB/s eta 0:00:02\n",
      "   --------------------------------- ------ 23.7/28.1 MB 2.5 MB/s eta 0:00:02\n",
      "   --------------------------------- ------ 23.7/28.1 MB 2.4 MB/s eta 0:00:02\n",
      "   ---------------------------------- ----- 24.0/28.1 MB 2.4 MB/s eta 0:00:02\n",
      "   ---------------------------------- ----- 24.1/28.1 MB 2.4 MB/s eta 0:00:02\n",
      "   ---------------------------------- ----- 24.1/28.1 MB 2.4 MB/s eta 0:00:02\n",
      "   ---------------------------------- ----- 24.2/28.1 MB 2.3 MB/s eta 0:00:02\n",
      "   ---------------------------------- ----- 24.3/28.1 MB 2.3 MB/s eta 0:00:02\n",
      "   ---------------------------------- ----- 24.5/28.1 MB 2.3 MB/s eta 0:00:02\n",
      "   ---------------------------------- ----- 24.5/28.1 MB 2.3 MB/s eta 0:00:02\n",
      "   ---------------------------------- ----- 24.6/28.1 MB 2.3 MB/s eta 0:00:02\n",
      "   ----------------------------------- ---- 24.6/28.1 MB 2.2 MB/s eta 0:00:02\n",
      "   ----------------------------------- ---- 24.7/28.1 MB 2.2 MB/s eta 0:00:02\n",
      "   ----------------------------------- ---- 24.8/28.1 MB 2.2 MB/s eta 0:00:02\n",
      "   ----------------------------------- ---- 24.9/28.1 MB 2.3 MB/s eta 0:00:02\n",
      "   ----------------------------------- ---- 25.1/28.1 MB 2.3 MB/s eta 0:00:02\n",
      "   ------------------------------------ --- 25.3/28.1 MB 2.2 MB/s eta 0:00:02\n",
      "   ------------------------------------ --- 25.3/28.1 MB 2.2 MB/s eta 0:00:02\n",
      "   ------------------------------------ --- 25.3/28.1 MB 2.2 MB/s eta 0:00:02\n",
      "   ------------------------------------ --- 25.4/28.1 MB 2.2 MB/s eta 0:00:02\n",
      "   ------------------------------------ --- 25.6/28.1 MB 2.2 MB/s eta 0:00:02\n",
      "   ------------------------------------ --- 25.7/28.1 MB 2.2 MB/s eta 0:00:02\n",
      "   ------------------------------------ --- 26.0/28.1 MB 2.2 MB/s eta 0:00:01\n",
      "   ------------------------------------- -- 26.4/28.1 MB 2.2 MB/s eta 0:00:01\n",
      "   ------------------------------------- -- 26.7/28.1 MB 2.2 MB/s eta 0:00:01\n",
      "   -------------------------------------- - 26.7/28.1 MB 2.2 MB/s eta 0:00:01\n",
      "   -------------------------------------- - 27.0/28.1 MB 2.2 MB/s eta 0:00:01\n",
      "   -------------------------------------- - 27.0/28.1 MB 2.2 MB/s eta 0:00:01\n",
      "   ---------------------------------------  27.6/28.1 MB 2.2 MB/s eta 0:00:01\n",
      "   ---------------------------------------  27.9/28.1 MB 2.2 MB/s eta 0:00:01\n",
      "   ---------------------------------------  28.1/28.1 MB 2.2 MB/s eta 0:00:01\n",
      "   ---------------------------------------  28.1/28.1 MB 2.2 MB/s eta 0:00:01\n",
      "   ---------------------------------------  28.1/28.1 MB 2.2 MB/s eta 0:00:01\n",
      "   ---------------------------------------- 28.1/28.1 MB 2.1 MB/s eta 0:00:00\n",
      "Installing collected packages: llvmlite, numba, pynndescent, umap-learn\n",
      "Successfully installed llvmlite-0.43.0 numba-0.60.0 pynndescent-0.5.13 umap-learn-0.5.7\n"
     ]
    },
    {
     "name": "stderr",
     "output_type": "stream",
     "text": [
      "\n",
      "[notice] A new release of pip is available: 23.3.1 -> 25.1.1\n",
      "[notice] To update, run: python.exe -m pip install --upgrade pip\n"
     ]
    }
   ],
   "source": [
    "# !pip install -U accelerate\n",
    "# !pip install -U datasets\n",
    "# !pip install -U bertviz\n",
    "# !pip install -U umap-learn\n",
    "     "
   ]
  },
  {
   "cell_type": "code",
   "execution_count": 29,
   "id": "700c8f9c",
   "metadata": {},
   "outputs": [
    {
     "data": {
      "text/plain": [
       "DatasetDict({\n",
       "    train: Dataset({\n",
       "        features: ['text', 'label'],\n",
       "        num_rows: 16000\n",
       "    })\n",
       "    validation: Dataset({\n",
       "        features: ['text', 'label'],\n",
       "        num_rows: 2000\n",
       "    })\n",
       "    test: Dataset({\n",
       "        features: ['text', 'label'],\n",
       "        num_rows: 2000\n",
       "    })\n",
       "})"
      ]
     },
     "execution_count": 29,
     "metadata": {},
     "output_type": "execute_result"
    }
   ],
   "source": [
    "from datasets import load_dataset\n",
    "\n",
    "df = load_dataset(\"dair-ai/emotion\", \"split\")\n",
    "df.set_format(type='pandas')\n",
    "df"
   ]
  },
  {
   "cell_type": "code",
   "execution_count": 30,
   "id": "cba4ddc8",
   "metadata": {},
   "outputs": [
    {
     "data": {
      "text/plain": [
       "['sadness', 'joy', 'love', 'anger', 'fear', 'surprise']"
      ]
     },
     "execution_count": 30,
     "metadata": {},
     "output_type": "execute_result"
    }
   ],
   "source": [
    "classes = df['train'].features['label'].names\n",
    "classes\n",
    "     "
   ]
  },
  {
   "cell_type": "code",
   "execution_count": 31,
   "id": "a05a14b9",
   "metadata": {},
   "outputs": [],
   "source": [
    "train_df = df['train'].to_pandas()\n",
    "test_df = df['test'].to_pandas()\n",
    "valid = df['validation'].to_pandas()"
   ]
  },
  {
   "cell_type": "code",
   "execution_count": 34,
   "id": "cd631e84",
   "metadata": {},
   "outputs": [
    {
     "data": {
      "text/html": [
       "<div>\n",
       "<style scoped>\n",
       "    .dataframe tbody tr th:only-of-type {\n",
       "        vertical-align: middle;\n",
       "    }\n",
       "\n",
       "    .dataframe tbody tr th {\n",
       "        vertical-align: top;\n",
       "    }\n",
       "\n",
       "    .dataframe thead th {\n",
       "        text-align: right;\n",
       "    }\n",
       "</style>\n",
       "<table border=\"1\" class=\"dataframe\">\n",
       "  <thead>\n",
       "    <tr style=\"text-align: right;\">\n",
       "      <th></th>\n",
       "      <th>text</th>\n",
       "      <th>label</th>\n",
       "      <th>label_name</th>\n",
       "    </tr>\n",
       "  </thead>\n",
       "  <tbody>\n",
       "    <tr>\n",
       "      <th>0</th>\n",
       "      <td>i didnt feel humiliated</td>\n",
       "      <td>0</td>\n",
       "      <td>sadness</td>\n",
       "    </tr>\n",
       "    <tr>\n",
       "      <th>1</th>\n",
       "      <td>i can go from feeling so hopeless to so damned...</td>\n",
       "      <td>0</td>\n",
       "      <td>sadness</td>\n",
       "    </tr>\n",
       "    <tr>\n",
       "      <th>2</th>\n",
       "      <td>im grabbing a minute to post i feel greedy wrong</td>\n",
       "      <td>3</td>\n",
       "      <td>anger</td>\n",
       "    </tr>\n",
       "    <tr>\n",
       "      <th>3</th>\n",
       "      <td>i am ever feeling nostalgic about the fireplac...</td>\n",
       "      <td>2</td>\n",
       "      <td>love</td>\n",
       "    </tr>\n",
       "    <tr>\n",
       "      <th>4</th>\n",
       "      <td>i am feeling grouchy</td>\n",
       "      <td>3</td>\n",
       "      <td>anger</td>\n",
       "    </tr>\n",
       "  </tbody>\n",
       "</table>\n",
       "</div>"
      ],
      "text/plain": [
       "                                                text  label label_name\n",
       "0                            i didnt feel humiliated      0    sadness\n",
       "1  i can go from feeling so hopeless to so damned...      0    sadness\n",
       "2   im grabbing a minute to post i feel greedy wrong      3      anger\n",
       "3  i am ever feeling nostalgic about the fireplac...      2       love\n",
       "4                               i am feeling grouchy      3      anger"
      ]
     },
     "execution_count": 34,
     "metadata": {},
     "output_type": "execute_result"
    }
   ],
   "source": [
    "train_df['label_name'] = train_df['label'].apply(lambda x: classes[x])\n",
    "train_df.head()"
   ]
  },
  {
   "cell_type": "code",
   "execution_count": 35,
   "id": "7506d02d",
   "metadata": {},
   "outputs": [
    {
     "data": {
      "text/html": [
       "<div>\n",
       "<style scoped>\n",
       "    .dataframe tbody tr th:only-of-type {\n",
       "        vertical-align: middle;\n",
       "    }\n",
       "\n",
       "    .dataframe tbody tr th {\n",
       "        vertical-align: top;\n",
       "    }\n",
       "\n",
       "    .dataframe thead th {\n",
       "        text-align: right;\n",
       "    }\n",
       "</style>\n",
       "<table border=\"1\" class=\"dataframe\">\n",
       "  <thead>\n",
       "    <tr style=\"text-align: right;\">\n",
       "      <th></th>\n",
       "      <th>text</th>\n",
       "      <th>label</th>\n",
       "      <th>label_name</th>\n",
       "    </tr>\n",
       "  </thead>\n",
       "  <tbody>\n",
       "    <tr>\n",
       "      <th>0</th>\n",
       "      <td>i didnt feel humiliated</td>\n",
       "      <td>0</td>\n",
       "      <td>sadness</td>\n",
       "    </tr>\n",
       "    <tr>\n",
       "      <th>1</th>\n",
       "      <td>i can go from feeling so hopeless to so damned...</td>\n",
       "      <td>0</td>\n",
       "      <td>sadness</td>\n",
       "    </tr>\n",
       "    <tr>\n",
       "      <th>2</th>\n",
       "      <td>im grabbing a minute to post i feel greedy wrong</td>\n",
       "      <td>3</td>\n",
       "      <td>anger</td>\n",
       "    </tr>\n",
       "    <tr>\n",
       "      <th>3</th>\n",
       "      <td>i am ever feeling nostalgic about the fireplac...</td>\n",
       "      <td>2</td>\n",
       "      <td>love</td>\n",
       "    </tr>\n",
       "    <tr>\n",
       "      <th>4</th>\n",
       "      <td>i am feeling grouchy</td>\n",
       "      <td>3</td>\n",
       "      <td>anger</td>\n",
       "    </tr>\n",
       "  </tbody>\n",
       "</table>\n",
       "</div>"
      ],
      "text/plain": [
       "                                                text  label label_name\n",
       "0                            i didnt feel humiliated      0    sadness\n",
       "1  i can go from feeling so hopeless to so damned...      0    sadness\n",
       "2   im grabbing a minute to post i feel greedy wrong      3      anger\n",
       "3  i am ever feeling nostalgic about the fireplac...      2       love\n",
       "4                               i am feeling grouchy      3      anger"
      ]
     },
     "execution_count": 35,
     "metadata": {},
     "output_type": "execute_result"
    }
   ],
   "source": [
    "train_df.head()"
   ]
  },
  {
   "cell_type": "code",
   "execution_count": 39,
   "id": "15b84dbf",
   "metadata": {},
   "outputs": [
    {
     "data": {
      "text/plain": [
       "label_name\n",
       "joy         5362\n",
       "sadness     4666\n",
       "anger       2159\n",
       "fear        1937\n",
       "love        1304\n",
       "surprise     572\n",
       "Name: count, dtype: int64"
      ]
     },
     "execution_count": 39,
     "metadata": {},
     "output_type": "execute_result"
    }
   ],
   "source": [
    "train_df.label_name.value_counts()"
   ]
  },
  {
   "cell_type": "code",
   "execution_count": 40,
   "id": "e0dcafca",
   "metadata": {},
   "outputs": [],
   "source": [
    "from transformers import AutoTokenizer\n",
    "\n",
    "model_ckpt = \"distilbert-base-uncased\"\n",
    "tokenizer = AutoTokenizer.from_pretrained(model_ckpt)     "
   ]
  },
  {
   "cell_type": "code",
   "execution_count": 41,
   "id": "edef5e8d",
   "metadata": {},
   "outputs": [
    {
     "name": "stdout",
     "output_type": "stream",
     "text": [
      "{'input_ids': [101, 1045, 2293, 3698, 4083, 999, 1012, 19204, 3989, 2003, 12476, 102], 'attention_mask': [1, 1, 1, 1, 1, 1, 1, 1, 1, 1, 1, 1]}\n"
     ]
    }
   ],
   "source": [
    "text = \"I love Machine Learning!. Tokenization is awesome\"\n",
    "encoded_text = tokenizer(text)\n",
    "print(encoded_text)\n",
    "     "
   ]
  },
  {
   "cell_type": "code",
   "execution_count": 42,
   "id": "b2079315",
   "metadata": {},
   "outputs": [
    {
     "name": "stdout",
     "output_type": "stream",
     "text": [
      "['[CLS]', 'i', 'love', 'machine', 'learning', '!', '.', 'token', '##ization', 'is', 'awesome', '[SEP]']\n"
     ]
    }
   ],
   "source": [
    "tokens = tokenizer.convert_ids_to_tokens(encoded_text.input_ids)\n",
    "print(tokens)\n",
    "     "
   ]
  },
  {
   "cell_type": "code",
   "execution_count": 43,
   "id": "be582a90",
   "metadata": {},
   "outputs": [
    {
     "data": {
      "text/plain": [
       "(30522, 512)"
      ]
     },
     "execution_count": 43,
     "metadata": {},
     "output_type": "execute_result"
    }
   ],
   "source": [
    "tokenizer.vocab_size, tokenizer.model_max_length\n"
   ]
  },
  {
   "cell_type": "code",
   "execution_count": 49,
   "id": "86edae4f",
   "metadata": {},
   "outputs": [],
   "source": [
    "df.reset_format()\n"
   ]
  },
  {
   "cell_type": "code",
   "execution_count": 50,
   "id": "5a29efbe",
   "metadata": {},
   "outputs": [
    {
     "name": "stdout",
     "output_type": "stream",
     "text": [
      "{'input_ids': [[101, 1045, 2134, 2102, 2514, 26608, 102, 0, 0, 0, 0, 0, 0, 0, 0, 0, 0, 0, 0, 0, 0, 0, 0], [101, 1045, 2064, 2175, 2013, 3110, 2061, 20625, 2000, 2061, 9636, 17772, 2074, 2013, 2108, 2105, 2619, 2040, 14977, 1998, 2003, 8300, 102], [101, 10047, 9775, 1037, 3371, 2000, 2695, 1045, 2514, 20505, 3308, 102, 0, 0, 0, 0, 0, 0, 0, 0, 0, 0, 0], [101, 1045, 2572, 2412, 3110, 16839, 9080, 12863, 2055, 1996, 13788, 1045, 2097, 2113, 2008, 2009, 2003, 2145, 2006, 1996, 3200, 102, 0], [101, 1045, 2572, 3110, 24665, 7140, 11714, 102, 0, 0, 0, 0, 0, 0, 0, 0, 0, 0, 0, 0, 0, 0, 0]], 'attention_mask': [[1, 1, 1, 1, 1, 1, 1, 0, 0, 0, 0, 0, 0, 0, 0, 0, 0, 0, 0, 0, 0, 0, 0], [1, 1, 1, 1, 1, 1, 1, 1, 1, 1, 1, 1, 1, 1, 1, 1, 1, 1, 1, 1, 1, 1, 1], [1, 1, 1, 1, 1, 1, 1, 1, 1, 1, 1, 1, 0, 0, 0, 0, 0, 0, 0, 0, 0, 0, 0], [1, 1, 1, 1, 1, 1, 1, 1, 1, 1, 1, 1, 1, 1, 1, 1, 1, 1, 1, 1, 1, 1, 0], [1, 1, 1, 1, 1, 1, 1, 1, 0, 0, 0, 0, 0, 0, 0, 0, 0, 0, 0, 0, 0, 0, 0]]}\n"
     ]
    }
   ],
   "source": [
    "def tokenize(batch):\n",
    "  temp =tokenizer(batch['text'], padding=True, truncation=True)\n",
    "  return temp\n",
    "\n",
    "print(tokenize(df[\"train\"][:5]))"
   ]
  },
  {
   "cell_type": "code",
   "execution_count": 62,
   "id": "fd7a4d76",
   "metadata": {},
   "outputs": [
    {
     "name": "stderr",
     "output_type": "stream",
     "text": [
      "Map:   0%|          | 0/16000 [00:00<?, ? examples/s]"
     ]
    },
    {
     "name": "stderr",
     "output_type": "stream",
     "text": [
      "Map: 100%|██████████| 16000/16000 [00:02<00:00, 5712.02 examples/s]\n",
      "Map: 100%|██████████| 2000/2000 [00:00<00:00, 6163.38 examples/s]\n",
      "Map: 100%|██████████| 2000/2000 [00:00<00:00, 4012.96 examples/s]\n"
     ]
    }
   ],
   "source": [
    "df_encoded = df.map(tokenize, batched=True, batch_size=None)"
   ]
  },
  {
   "cell_type": "code",
   "execution_count": 63,
   "id": "12903934",
   "metadata": {},
   "outputs": [
    {
     "data": {
      "text/plain": [
       "DatasetDict({\n",
       "    train: Dataset({\n",
       "        features: ['text', 'label', 'input_ids', 'attention_mask'],\n",
       "        num_rows: 16000\n",
       "    })\n",
       "    validation: Dataset({\n",
       "        features: ['text', 'label', 'input_ids', 'attention_mask'],\n",
       "        num_rows: 2000\n",
       "    })\n",
       "    test: Dataset({\n",
       "        features: ['text', 'label', 'input_ids', 'attention_mask'],\n",
       "        num_rows: 2000\n",
       "    })\n",
       "})"
      ]
     },
     "execution_count": 63,
     "metadata": {},
     "output_type": "execute_result"
    }
   ],
   "source": [
    "df_encoded"
   ]
  },
  {
   "cell_type": "code",
   "execution_count": 64,
   "id": "0525c5b1",
   "metadata": {},
   "outputs": [],
   "source": [
    "from transformers import AutoModel\n",
    "import torch\n",
    "\n",
    "model = AutoModel.from_pretrained(model_ckpt)"
   ]
  },
  {
   "cell_type": "code",
   "execution_count": null,
   "id": "1cae531c",
   "metadata": {},
   "outputs": [],
   "source": [
    "text = 'I love sdu and i am happy'\n",
    "inputs = tokenizer(text, return_tensors='pt')\n",
    "\n",
    "with torch.no_grad():\n",
    "  outputs = model(**inputs)\n",
    "\n",
    "last_hidden_states = outputs.last_hidden_state"
   ]
  },
  {
   "cell_type": "code",
   "execution_count": 66,
   "id": "1a04a39f",
   "metadata": {},
   "outputs": [
    {
     "data": {
      "text/plain": [
       "{'input_ids': tensor([[  101,  1045,  2293, 17371,  2226,  1998,  1045,  2572,  3407,   102]]), 'attention_mask': tensor([[1, 1, 1, 1, 1, 1, 1, 1, 1, 1]])}"
      ]
     },
     "execution_count": 66,
     "metadata": {},
     "output_type": "execute_result"
    }
   ],
   "source": [
    "inputs"
   ]
  },
  {
   "cell_type": "code",
   "execution_count": 69,
   "id": "1cc6ace4",
   "metadata": {},
   "outputs": [
    {
     "data": {
      "text/plain": [
       "torch.Size([1, 10, 768])"
      ]
     },
     "execution_count": 69,
     "metadata": {},
     "output_type": "execute_result"
    }
   ],
   "source": [
    "last_hidden_states.shape\n"
   ]
  },
  {
   "cell_type": "code",
   "execution_count": 70,
   "id": "2ce67740",
   "metadata": {},
   "outputs": [
    {
     "name": "stderr",
     "output_type": "stream",
     "text": [
      "Some weights of DistilBertForSequenceClassification were not initialized from the model checkpoint at distilbert-base-uncased and are newly initialized: ['classifier.bias', 'classifier.weight', 'pre_classifier.bias', 'pre_classifier.weight']\n",
      "You should probably TRAIN this model on a down-stream task to be able to use it for predictions and inference.\n"
     ]
    }
   ],
   "source": [
    "from transformers import AutoModelForSequenceClassification\n",
    "\n",
    "num_labels = len(classes)\n",
    "device = torch.device(\"cuda\" if torch.cuda.is_available() else \"cpu\")\n",
    "model = AutoModelForSequenceClassification.from_pretrained(model_ckpt, num_labels = num_labels).to(device)"
   ]
  },
  {
   "cell_type": "code",
   "execution_count": 71,
   "id": "6f914369",
   "metadata": {},
   "outputs": [
    {
     "data": {
      "text/plain": [
       "device(type='cpu')"
      ]
     },
     "execution_count": 71,
     "metadata": {},
     "output_type": "execute_result"
    }
   ],
   "source": [
    "device"
   ]
  },
  {
   "cell_type": "code",
   "execution_count": 79,
   "id": "2151e31a",
   "metadata": {},
   "outputs": [],
   "source": [
    "from transformers import TrainingArguments\n",
    "\n",
    "batch_size = 64\n",
    "model_name = \"distilbert-finetuned-emotion\"\n",
    "\n",
    "training_args = TrainingArguments(output_dir = model_name,\n",
    "                                 num_train_epochs=2,\n",
    "                                 learning_rate = 2e-5,\n",
    "                                 per_device_train_batch_size= batch_size,\n",
    "                                 per_device_eval_batch_size = batch_size,\n",
    "                                  weight_decay=0.01,\n",
    "                                  disable_tqdm=False)\n"
   ]
  },
  {
   "cell_type": "code",
   "execution_count": 80,
   "id": "f7a0a177",
   "metadata": {},
   "outputs": [],
   "source": [
    "from sklearn.metrics import accuracy_score, f1_score\n",
    "\n",
    "def compute_metrics(pred):\n",
    "  labels = pred.label_ids\n",
    "  preds = pred.predictions.argmax(-1)\n",
    "  f1 = f1_score(labels, preds, average='weighted')\n",
    "  acc = accuracy_score(labels, preds)\n",
    "  return {\"accuracy\": acc, \"f1\": f1}\n"
   ]
  },
  {
   "cell_type": "code",
   "execution_count": 82,
   "id": "7a0436a7",
   "metadata": {},
   "outputs": [
    {
     "name": "stderr",
     "output_type": "stream",
     "text": [
      "C:\\Users\\user\\AppData\\Local\\Temp\\ipykernel_6672\\562123166.py:3: FutureWarning: `tokenizer` is deprecated and will be removed in version 5.0.0 for `Trainer.__init__`. Use `processing_class` instead.\n",
      "  trainer = Trainer(model=model, args=training_args,\n"
     ]
    }
   ],
   "source": [
    "from transformers import Trainer\n",
    "\n",
    "trainer = Trainer(model=model, args=training_args,\n",
    "                  compute_metrics=compute_metrics,\n",
    "                  train_dataset=df_encoded['train'],\n",
    "                  eval_dataset=df_encoded['validation'],\n",
    "                  tokenizer=tokenizer)\n",
    "     "
   ]
  },
  {
   "cell_type": "code",
   "execution_count": 83,
   "id": "4f5b6754",
   "metadata": {},
   "outputs": [
    {
     "name": "stderr",
     "output_type": "stream",
     "text": [
      "c:\\Users\\user\\AppData\\Local\\Programs\\Python\\Python39\\lib\\site-packages\\torch\\utils\\data\\dataloader.py:665: UserWarning: 'pin_memory' argument is set as true but no accelerator is found, then device pinned memory won't be used.\n",
      "  warnings.warn(warn_msg)\n"
     ]
    },
    {
     "data": {
      "text/html": [
       "\n",
       "    <div>\n",
       "      \n",
       "      <progress value='9' max='500' style='width:300px; height:20px; vertical-align: middle;'></progress>\n",
       "      [  9/500 03:35 < 4:11:55, 0.03 it/s, Epoch 0.03/2]\n",
       "    </div>\n",
       "    <table border=\"1\" class=\"dataframe\">\n",
       "  <thead>\n",
       " <tr style=\"text-align: left;\">\n",
       "      <th>Step</th>\n",
       "      <th>Training Loss</th>\n",
       "    </tr>\n",
       "  </thead>\n",
       "  <tbody>\n",
       "  </tbody>\n",
       "</table><p>"
      ],
      "text/plain": [
       "<IPython.core.display.HTML object>"
      ]
     },
     "metadata": {},
     "output_type": "display_data"
    },
    {
     "ename": "KeyboardInterrupt",
     "evalue": "",
     "output_type": "error",
     "traceback": [
      "\u001b[1;31m---------------------------------------------------------------------------\u001b[0m",
      "\u001b[1;31mKeyboardInterrupt\u001b[0m                         Traceback (most recent call last)",
      "Cell \u001b[1;32mIn[83], line 1\u001b[0m\n\u001b[1;32m----> 1\u001b[0m \u001b[43mtrainer\u001b[49m\u001b[38;5;241;43m.\u001b[39;49m\u001b[43mtrain\u001b[49m\u001b[43m(\u001b[49m\u001b[43m)\u001b[49m\n",
      "File \u001b[1;32mc:\\Users\\user\\AppData\\Local\\Programs\\Python\\Python39\\lib\\site-packages\\transformers\\trainer.py:2245\u001b[0m, in \u001b[0;36mTrainer.train\u001b[1;34m(self, resume_from_checkpoint, trial, ignore_keys_for_eval, **kwargs)\u001b[0m\n\u001b[0;32m   2243\u001b[0m         hf_hub_utils\u001b[38;5;241m.\u001b[39menable_progress_bars()\n\u001b[0;32m   2244\u001b[0m \u001b[38;5;28;01melse\u001b[39;00m:\n\u001b[1;32m-> 2245\u001b[0m     \u001b[38;5;28;01mreturn\u001b[39;00m \u001b[43minner_training_loop\u001b[49m\u001b[43m(\u001b[49m\n\u001b[0;32m   2246\u001b[0m \u001b[43m        \u001b[49m\u001b[43margs\u001b[49m\u001b[38;5;241;43m=\u001b[39;49m\u001b[43margs\u001b[49m\u001b[43m,\u001b[49m\n\u001b[0;32m   2247\u001b[0m \u001b[43m        \u001b[49m\u001b[43mresume_from_checkpoint\u001b[49m\u001b[38;5;241;43m=\u001b[39;49m\u001b[43mresume_from_checkpoint\u001b[49m\u001b[43m,\u001b[49m\n\u001b[0;32m   2248\u001b[0m \u001b[43m        \u001b[49m\u001b[43mtrial\u001b[49m\u001b[38;5;241;43m=\u001b[39;49m\u001b[43mtrial\u001b[49m\u001b[43m,\u001b[49m\n\u001b[0;32m   2249\u001b[0m \u001b[43m        \u001b[49m\u001b[43mignore_keys_for_eval\u001b[49m\u001b[38;5;241;43m=\u001b[39;49m\u001b[43mignore_keys_for_eval\u001b[49m\u001b[43m,\u001b[49m\n\u001b[0;32m   2250\u001b[0m \u001b[43m    \u001b[49m\u001b[43m)\u001b[49m\n",
      "File \u001b[1;32mc:\\Users\\user\\AppData\\Local\\Programs\\Python\\Python39\\lib\\site-packages\\transformers\\trainer.py:2560\u001b[0m, in \u001b[0;36mTrainer._inner_training_loop\u001b[1;34m(self, batch_size, args, resume_from_checkpoint, trial, ignore_keys_for_eval)\u001b[0m\n\u001b[0;32m   2553\u001b[0m context \u001b[38;5;241m=\u001b[39m (\n\u001b[0;32m   2554\u001b[0m     functools\u001b[38;5;241m.\u001b[39mpartial(\u001b[38;5;28mself\u001b[39m\u001b[38;5;241m.\u001b[39maccelerator\u001b[38;5;241m.\u001b[39mno_sync, model\u001b[38;5;241m=\u001b[39mmodel)\n\u001b[0;32m   2555\u001b[0m     \u001b[38;5;28;01mif\u001b[39;00m i \u001b[38;5;241m!=\u001b[39m \u001b[38;5;28mlen\u001b[39m(batch_samples) \u001b[38;5;241m-\u001b[39m \u001b[38;5;241m1\u001b[39m\n\u001b[0;32m   2556\u001b[0m     \u001b[38;5;129;01mand\u001b[39;00m \u001b[38;5;28mself\u001b[39m\u001b[38;5;241m.\u001b[39maccelerator\u001b[38;5;241m.\u001b[39mdistributed_type \u001b[38;5;241m!=\u001b[39m DistributedType\u001b[38;5;241m.\u001b[39mDEEPSPEED\n\u001b[0;32m   2557\u001b[0m     \u001b[38;5;28;01melse\u001b[39;00m contextlib\u001b[38;5;241m.\u001b[39mnullcontext\n\u001b[0;32m   2558\u001b[0m )\n\u001b[0;32m   2559\u001b[0m \u001b[38;5;28;01mwith\u001b[39;00m context():\n\u001b[1;32m-> 2560\u001b[0m     tr_loss_step \u001b[38;5;241m=\u001b[39m \u001b[38;5;28;43mself\u001b[39;49m\u001b[38;5;241;43m.\u001b[39;49m\u001b[43mtraining_step\u001b[49m\u001b[43m(\u001b[49m\u001b[43mmodel\u001b[49m\u001b[43m,\u001b[49m\u001b[43m \u001b[49m\u001b[43minputs\u001b[49m\u001b[43m,\u001b[49m\u001b[43m \u001b[49m\u001b[43mnum_items_in_batch\u001b[49m\u001b[43m)\u001b[49m\n\u001b[0;32m   2562\u001b[0m \u001b[38;5;28;01mif\u001b[39;00m (\n\u001b[0;32m   2563\u001b[0m     args\u001b[38;5;241m.\u001b[39mlogging_nan_inf_filter\n\u001b[0;32m   2564\u001b[0m     \u001b[38;5;129;01mand\u001b[39;00m \u001b[38;5;129;01mnot\u001b[39;00m is_torch_xla_available()\n\u001b[0;32m   2565\u001b[0m     \u001b[38;5;129;01mand\u001b[39;00m (torch\u001b[38;5;241m.\u001b[39misnan(tr_loss_step) \u001b[38;5;129;01mor\u001b[39;00m torch\u001b[38;5;241m.\u001b[39misinf(tr_loss_step))\n\u001b[0;32m   2566\u001b[0m ):\n\u001b[0;32m   2567\u001b[0m     \u001b[38;5;66;03m# if loss is nan or inf simply add the average of previous logged losses\u001b[39;00m\n\u001b[0;32m   2568\u001b[0m     tr_loss \u001b[38;5;241m=\u001b[39m tr_loss \u001b[38;5;241m+\u001b[39m tr_loss \u001b[38;5;241m/\u001b[39m (\u001b[38;5;241m1\u001b[39m \u001b[38;5;241m+\u001b[39m \u001b[38;5;28mself\u001b[39m\u001b[38;5;241m.\u001b[39mstate\u001b[38;5;241m.\u001b[39mglobal_step \u001b[38;5;241m-\u001b[39m \u001b[38;5;28mself\u001b[39m\u001b[38;5;241m.\u001b[39m_globalstep_last_logged)\n",
      "File \u001b[1;32mc:\\Users\\user\\AppData\\Local\\Programs\\Python\\Python39\\lib\\site-packages\\transformers\\trainer.py:3782\u001b[0m, in \u001b[0;36mTrainer.training_step\u001b[1;34m(***failed resolving arguments***)\u001b[0m\n\u001b[0;32m   3779\u001b[0m \u001b[38;5;28;01mif\u001b[39;00m \u001b[38;5;28mself\u001b[39m\u001b[38;5;241m.\u001b[39maccelerator\u001b[38;5;241m.\u001b[39mdistributed_type \u001b[38;5;241m==\u001b[39m DistributedType\u001b[38;5;241m.\u001b[39mDEEPSPEED:\n\u001b[0;32m   3780\u001b[0m     kwargs[\u001b[38;5;124m\"\u001b[39m\u001b[38;5;124mscale_wrt_gas\u001b[39m\u001b[38;5;124m\"\u001b[39m] \u001b[38;5;241m=\u001b[39m \u001b[38;5;28;01mFalse\u001b[39;00m\n\u001b[1;32m-> 3782\u001b[0m \u001b[38;5;28mself\u001b[39m\u001b[38;5;241m.\u001b[39maccelerator\u001b[38;5;241m.\u001b[39mbackward(loss, \u001b[38;5;241m*\u001b[39m\u001b[38;5;241m*\u001b[39mkwargs)\n\u001b[0;32m   3784\u001b[0m \u001b[38;5;28;01mreturn\u001b[39;00m loss\u001b[38;5;241m.\u001b[39mdetach()\n",
      "File \u001b[1;32mc:\\Users\\user\\AppData\\Local\\Programs\\Python\\Python39\\lib\\site-packages\\accelerate\\accelerator.py:2473\u001b[0m, in \u001b[0;36mAccelerator.backward\u001b[1;34m(self, loss, **kwargs)\u001b[0m\n\u001b[0;32m   2471\u001b[0m     \u001b[38;5;28mself\u001b[39m\u001b[38;5;241m.\u001b[39mlomo_backward(loss, learning_rate)\n\u001b[0;32m   2472\u001b[0m \u001b[38;5;28;01melse\u001b[39;00m:\n\u001b[1;32m-> 2473\u001b[0m     loss\u001b[38;5;241m.\u001b[39mbackward(\u001b[38;5;241m*\u001b[39m\u001b[38;5;241m*\u001b[39mkwargs)\n",
      "File \u001b[1;32mc:\\Users\\user\\AppData\\Local\\Programs\\Python\\Python39\\lib\\site-packages\\torch\\_tensor.py:648\u001b[0m, in \u001b[0;36mTensor.backward\u001b[1;34m(self, gradient, retain_graph, create_graph, inputs)\u001b[0m\n\u001b[0;32m    638\u001b[0m \u001b[38;5;28;01mif\u001b[39;00m has_torch_function_unary(\u001b[38;5;28mself\u001b[39m):\n\u001b[0;32m    639\u001b[0m     \u001b[38;5;28;01mreturn\u001b[39;00m handle_torch_function(\n\u001b[0;32m    640\u001b[0m         Tensor\u001b[38;5;241m.\u001b[39mbackward,\n\u001b[0;32m    641\u001b[0m         (\u001b[38;5;28mself\u001b[39m,),\n\u001b[1;32m   (...)\u001b[0m\n\u001b[0;32m    646\u001b[0m         inputs\u001b[38;5;241m=\u001b[39minputs,\n\u001b[0;32m    647\u001b[0m     )\n\u001b[1;32m--> 648\u001b[0m \u001b[43mtorch\u001b[49m\u001b[38;5;241;43m.\u001b[39;49m\u001b[43mautograd\u001b[49m\u001b[38;5;241;43m.\u001b[39;49m\u001b[43mbackward\u001b[49m\u001b[43m(\u001b[49m\n\u001b[0;32m    649\u001b[0m \u001b[43m    \u001b[49m\u001b[38;5;28;43mself\u001b[39;49m\u001b[43m,\u001b[49m\u001b[43m \u001b[49m\u001b[43mgradient\u001b[49m\u001b[43m,\u001b[49m\u001b[43m \u001b[49m\u001b[43mretain_graph\u001b[49m\u001b[43m,\u001b[49m\u001b[43m \u001b[49m\u001b[43mcreate_graph\u001b[49m\u001b[43m,\u001b[49m\u001b[43m \u001b[49m\u001b[43minputs\u001b[49m\u001b[38;5;241;43m=\u001b[39;49m\u001b[43minputs\u001b[49m\n\u001b[0;32m    650\u001b[0m \u001b[43m\u001b[49m\u001b[43m)\u001b[49m\n",
      "File \u001b[1;32mc:\\Users\\user\\AppData\\Local\\Programs\\Python\\Python39\\lib\\site-packages\\torch\\autograd\\__init__.py:353\u001b[0m, in \u001b[0;36mbackward\u001b[1;34m(tensors, grad_tensors, retain_graph, create_graph, grad_variables, inputs)\u001b[0m\n\u001b[0;32m    348\u001b[0m     retain_graph \u001b[38;5;241m=\u001b[39m create_graph\n\u001b[0;32m    350\u001b[0m \u001b[38;5;66;03m# The reason we repeat the same comment below is that\u001b[39;00m\n\u001b[0;32m    351\u001b[0m \u001b[38;5;66;03m# some Python versions print out the first line of a multi-line function\u001b[39;00m\n\u001b[0;32m    352\u001b[0m \u001b[38;5;66;03m# calls in the traceback and some print out the last line\u001b[39;00m\n\u001b[1;32m--> 353\u001b[0m \u001b[43m_engine_run_backward\u001b[49m\u001b[43m(\u001b[49m\n\u001b[0;32m    354\u001b[0m \u001b[43m    \u001b[49m\u001b[43mtensors\u001b[49m\u001b[43m,\u001b[49m\n\u001b[0;32m    355\u001b[0m \u001b[43m    \u001b[49m\u001b[43mgrad_tensors_\u001b[49m\u001b[43m,\u001b[49m\n\u001b[0;32m    356\u001b[0m \u001b[43m    \u001b[49m\u001b[43mretain_graph\u001b[49m\u001b[43m,\u001b[49m\n\u001b[0;32m    357\u001b[0m \u001b[43m    \u001b[49m\u001b[43mcreate_graph\u001b[49m\u001b[43m,\u001b[49m\n\u001b[0;32m    358\u001b[0m \u001b[43m    \u001b[49m\u001b[43minputs\u001b[49m\u001b[43m,\u001b[49m\n\u001b[0;32m    359\u001b[0m \u001b[43m    \u001b[49m\u001b[43mallow_unreachable\u001b[49m\u001b[38;5;241;43m=\u001b[39;49m\u001b[38;5;28;43;01mTrue\u001b[39;49;00m\u001b[43m,\u001b[49m\n\u001b[0;32m    360\u001b[0m \u001b[43m    \u001b[49m\u001b[43maccumulate_grad\u001b[49m\u001b[38;5;241;43m=\u001b[39;49m\u001b[38;5;28;43;01mTrue\u001b[39;49;00m\u001b[43m,\u001b[49m\n\u001b[0;32m    361\u001b[0m \u001b[43m\u001b[49m\u001b[43m)\u001b[49m\n",
      "File \u001b[1;32mc:\\Users\\user\\AppData\\Local\\Programs\\Python\\Python39\\lib\\site-packages\\torch\\autograd\\graph.py:824\u001b[0m, in \u001b[0;36m_engine_run_backward\u001b[1;34m(t_outputs, *args, **kwargs)\u001b[0m\n\u001b[0;32m    822\u001b[0m     unregister_hooks \u001b[38;5;241m=\u001b[39m _register_logging_hooks_on_whole_graph(t_outputs)\n\u001b[0;32m    823\u001b[0m \u001b[38;5;28;01mtry\u001b[39;00m:\n\u001b[1;32m--> 824\u001b[0m     \u001b[38;5;28;01mreturn\u001b[39;00m Variable\u001b[38;5;241m.\u001b[39m_execution_engine\u001b[38;5;241m.\u001b[39mrun_backward(  \u001b[38;5;66;03m# Calls into the C++ engine to run the backward pass\u001b[39;00m\n\u001b[0;32m    825\u001b[0m         t_outputs, \u001b[38;5;241m*\u001b[39margs, \u001b[38;5;241m*\u001b[39m\u001b[38;5;241m*\u001b[39mkwargs\n\u001b[0;32m    826\u001b[0m     )  \u001b[38;5;66;03m# Calls into the C++ engine to run the backward pass\u001b[39;00m\n\u001b[0;32m    827\u001b[0m \u001b[38;5;28;01mfinally\u001b[39;00m:\n\u001b[0;32m    828\u001b[0m     \u001b[38;5;28;01mif\u001b[39;00m attach_logging_hooks:\n",
      "\u001b[1;31mKeyboardInterrupt\u001b[0m: "
     ]
    }
   ],
   "source": [
    "trainer.train()"
   ]
  },
  {
   "cell_type": "code",
   "execution_count": null,
   "id": "6a290e0c",
   "metadata": {},
   "outputs": [],
   "source": [
    "preds_outputs = trainer.predict(df_encoded['test'])\n",
    "preds_outputs.metrics"
   ]
  },
  {
   "cell_type": "code",
   "execution_count": null,
   "id": "d294ba38",
   "metadata": {},
   "outputs": [],
   "source": [
    "import numpy as np\n",
    "\n",
    "y_preds = np.argmax(preds_outputs.predictions, axis=1)\n",
    "y_true = df_encoded['test'][:]['label']\n",
    "     "
   ]
  },
  {
   "cell_type": "code",
   "execution_count": null,
   "id": "d517baf9",
   "metadata": {},
   "outputs": [],
   "source": [
    "from sklearn.metrics import classification_report\n",
    "print(classes)\n",
    "print(classification_report(y_true, y_preds))"
   ]
  },
  {
   "cell_type": "code",
   "execution_count": null,
   "id": "a0b507b1",
   "metadata": {},
   "outputs": [],
   "source": [
    "text = 'i want to kill you'\n",
    "input_encoded = tokenizer(text, return_tensors='pt').to(device)\n",
    "with torch.no_grad():\n",
    "  outputs = model(**input_encoded)\n",
    "\n",
    "logits = outputs.logits\n",
    "pred = torch.argmax(logits, dim=1).item()\n",
    "pred, classes[pred]\n",
    "     "
   ]
  },
  {
   "cell_type": "code",
   "execution_count": null,
   "id": "0eea28e1",
   "metadata": {},
   "outputs": [],
   "source": []
  }
 ],
 "metadata": {
  "kernelspec": {
   "display_name": "Python 3",
   "language": "python",
   "name": "python3"
  },
  "language_info": {
   "codemirror_mode": {
    "name": "ipython",
    "version": 3
   },
   "file_extension": ".py",
   "mimetype": "text/x-python",
   "name": "python",
   "nbconvert_exporter": "python",
   "pygments_lexer": "ipython3",
   "version": "3.9.13"
  }
 },
 "nbformat": 4,
 "nbformat_minor": 5
}
